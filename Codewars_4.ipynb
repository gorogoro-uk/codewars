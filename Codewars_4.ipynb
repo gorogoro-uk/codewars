{
  "nbformat": 4,
  "nbformat_minor": 0,
  "metadata": {
    "colab": {
      "name": "Codewars_4.ipynb",
      "provenance": [],
      "authorship_tag": "ABX9TyPnqxeUN3TlvKteQgJCyXL0",
      "include_colab_link": true
    },
    "kernelspec": {
      "name": "python3",
      "display_name": "Python 3"
    }
  },
  "cells": [
    {
      "cell_type": "markdown",
      "metadata": {
        "id": "view-in-github",
        "colab_type": "text"
      },
      "source": [
        "<a href=\"https://colab.research.google.com/github/gorogoro-uk/codewars/blob/master/Codewars_4.ipynb\" target=\"_parent\"><img src=\"https://colab.research.google.com/assets/colab-badge.svg\" alt=\"Open In Colab\"/></a>"
      ]
    },
    {
      "cell_type": "markdown",
      "metadata": {
        "id": "azxNfAm9dkSO",
        "colab_type": "text"
      },
      "source": [
        "### Codewars 4 kyu"
      ]
    },
    {
      "cell_type": "code",
      "metadata": {
        "id": "zxqn801sdaaC",
        "colab_type": "code",
        "colab": {}
      },
      "source": [
        "# 4. Snail\n",
        "# could use arr[].tolist() instead of for loop\n",
        "\n",
        "def snail(a):\n",
        "  n = len(a)\n",
        "\n",
        "  if a == [[]]:\n",
        "      return []\n",
        "\n",
        "  s = []\n",
        "  for p, q in enumerate(range(n,0,-2)):\n",
        "      print(f\"p,q {p} {q}\")\n",
        "      \n",
        "      if q == 1:\n",
        "          print(f\"size 1 {a[p][p]}\")\n",
        "          s.append(a[p][p])\n",
        "          break\n",
        "\n",
        "      for i in range(q):\n",
        "          s.append(a[p+0][p+i])\n",
        "\n",
        "      for j in range(1,q-1):\n",
        "          s.append(a[p+j][p+q-1])\n",
        "\n",
        "      for k in reversed(range(q)):\n",
        "          s.append(a[p+q-1][p+k])\n",
        "\n",
        "      for l in reversed(range(1,q-1)):\n",
        "          s.append(a[p+l][p+0])\n",
        "\n",
        "  return s\n",
        "\n",
        "arr = [[]]                                                # []\n",
        "#arr = [[1]]                                              # [1]\n",
        "#arr = [[1,2],[3,4]]                                      # [1,2,4,3]\n",
        "#arr = [[1,2,3],[4,5,6],[7,8,9]]                          # [1,2,3,6,9,8,7,4,5]\n",
        "#arr = [[1,2,3,4],[5,6,7,8],[9,10,11,12],[13,14,15,16]]    # [1,2,3,4,8,12,16,15,14,13,9,5,6,7,11,10]\n",
        "#arr = [[1,2,3,4,5],[6,7,8,9,10],[11,12,13,14,15],[16,17,18,19,20],[21,22,23,24,25]] \n",
        "snail(arr)"
      ],
      "execution_count": null,
      "outputs": []
    },
    {
      "cell_type": "code",
      "metadata": {
        "id": "GQHlxIsJdj-5",
        "colab_type": "code",
        "colab": {}
      },
      "source": [
        "# clever solution\n",
        "# slice off top row\n",
        "# use zip to pair along other axis (equivalent to rotating 90)\n",
        "# cal function on smaller array\n",
        "\n",
        "def snail(a):\n",
        "  return list(a[0]) + snail(zip(*a[1:])[::-1]) if a else []\n",
        "\n",
        "#arr = [[1,2,3,4,5],[6,7,8,9,10],[11,12,13,14,15],[16,17,18,19,20],[21,22,23,24,25]] \n",
        "snail(arr)"
      ],
      "execution_count": null,
      "outputs": []
    },
    {
      "cell_type": "code",
      "metadata": {
        "id": "XZOtD_8udsUi",
        "colab_type": "code",
        "colab": {}
      },
      "source": [
        "# clever solution\n",
        "# use numpy, slice off top row, rotate array 90 degrees and repeat\n",
        "# unpeel outer layers\n",
        "\n",
        "import numpy as np\n",
        "\n",
        "def snail(a):\n",
        "    m = []\n",
        "    a = np.array(a)\n",
        "    while len(a) > 0:\n",
        "        m += a[0].tolist()\n",
        "        a = np.rot90(a[1:])\n",
        "    return m\n",
        "\n",
        "arr = [[1,2,3,4,5],[6,7,8,9,10],[11,12,13,14,15],[16,17,18,19,20],[21,22,23,24,25]] \n",
        "snail(arr)"
      ],
      "execution_count": null,
      "outputs": []
    }
  ]
}