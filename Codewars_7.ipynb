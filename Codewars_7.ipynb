{
  "nbformat": 4,
  "nbformat_minor": 0,
  "metadata": {
    "colab": {
      "name": "Codewars_7.ipynb",
      "provenance": [],
      "authorship_tag": "ABX9TyMzvLEAWXwO+pgKAl9uYNuX",
      "include_colab_link": true
    },
    "kernelspec": {
      "name": "python3",
      "display_name": "Python 3"
    }
  },
  "cells": [
    {
      "cell_type": "markdown",
      "metadata": {
        "id": "view-in-github",
        "colab_type": "text"
      },
      "source": [
        "<a href=\"https://colab.research.google.com/github/gorogoro-uk/codewars/blob/master/Codewars_7.ipynb\" target=\"_parent\"><img src=\"https://colab.research.google.com/assets/colab-badge.svg\" alt=\"Open In Colab\"/></a>"
      ]
    },
    {
      "cell_type": "markdown",
      "metadata": {
        "id": "sPMa0l9uaeM6",
        "colab_type": "text"
      },
      "source": [
        "## Codewars 7 kyu"
      ]
    },
    {
      "cell_type": "code",
      "metadata": {
        "id": "jwEqzsvhaWqb",
        "colab_type": "code",
        "colab": {}
      },
      "source": [
        "# 7: Return a string's even characters.\n",
        "\n",
        "def even_chars(st): \n",
        "    # your code here\n",
        "    if len(st) < 2 or len(st) > 100:\n",
        "        return \"invalid string\"\n",
        "    else:\n",
        "        return list(st)[1::2]\n",
        "    pass\n",
        "\n",
        "# test\n",
        "x = \"asdfasdfa\\nasdf\\nbnhgfd\"\n",
        "even_chars(x)"
      ],
      "execution_count": null,
      "outputs": []
    },
    {
      "cell_type": "code",
      "metadata": {
        "id": "r4rgDlCTarU4",
        "colab_type": "code",
        "colab": {}
      },
      "source": [
        "# 7. Pluck\n",
        "\n",
        "def pluck(objs, name):\n",
        "    print(f\"name: {name}\")\n",
        "\n",
        "    x = []\n",
        "    for i, dct in enumerate(objs):\n",
        "      print(f\"i: {i}\")\n",
        "      print(f\"dct: {dct}\")\n",
        "\n",
        "      for key, val in dct.items():\n",
        "        print(f\"key: {key}\")\n",
        "        if name == key:\n",
        "          x.append(val)\n",
        "          \n",
        "      if name == None:\n",
        "        print(\"Test for None\")\n",
        "        x.append(None)\n",
        "\n",
        "    return x\n",
        "\n",
        "objs = [{'a':1, 'b':2, 'c': 3}, {'a':4, 'b':5, 'c': 6}, {'a':7, 'b':8, 'c': 9}, {'a':10, 'b':11}]\n",
        "pluck(objs, 'c')"
      ],
      "execution_count": null,
      "outputs": []
    },
    {
      "cell_type": "code",
      "metadata": {
        "id": "KYhdXDRLa-9P",
        "colab_type": "code",
        "colab": {}
      },
      "source": [
        "# 7. pluck\n",
        "\n",
        "def pluck(objs, name): \n",
        "    x = []\n",
        "    for dct in objs:\n",
        "      x.append(dct.get(name, None))\n",
        "    return x\n",
        "\n",
        "# alternative solution\n",
        "def pluck2(objs, name):\n",
        "    return [item.get(name, None) for item in objs]\n",
        "\n",
        "objs = [{'a':1, 'b':2, 'c': 3}, {'a':4, 'b':5, 'c': 6}, {'a':7, 'b':8, 'c': 9}, {'a':10, 'b':11}]\n",
        "\n",
        "\n",
        "# test\n",
        "#pluck(objs,'a')     # answer [1,4,7,10]\n",
        "#pluck2(objs,'c')     # answer [3,6,9,None]\n",
        "pluck2(objs,'e')     # answer [None, None, None, None]"
      ],
      "execution_count": null,
      "outputs": []
    },
    {
      "cell_type": "code",
      "metadata": {
        "id": "wDbPg3iCatpC",
        "colab_type": "code",
        "colab": {}
      },
      "source": [
        "# 7. Unique in Order\n",
        "import array as arr\n",
        "\n",
        "def unique_in_order(iterable):\n",
        "    x = []\n",
        "    # print(f\"start x: {x}\")\n",
        "    for i, item in enumerate(iterable):\n",
        "        print(f\"i:    {i}\")\n",
        "        print(f\"item: {item}\")\n",
        "        if i == 0:\n",
        "          x.append(item)\n",
        "          print(f\"x at end first loop: {x}\")\n",
        "          continue\n",
        "        print(f\"x[-1]: {x[-1]}\")\n",
        "        if x[-1] != item:\n",
        "          x.append(item)\n",
        "        print(f\"x end loop: {x}\")\n",
        "    return x\n",
        "\n",
        "#a = 'AAAABBCCCCCCCDEFGHGGRRR'\n",
        "a = arr.array('i',[1,2,2,2,2,3,3,4])\n",
        "unique_in_order(a)"
      ],
      "execution_count": null,
      "outputs": []
    },
    {
      "cell_type": "code",
      "metadata": {
        "id": "kxfhnhQZauVu",
        "colab_type": "code",
        "colab": {}
      },
      "source": [
        "# 7. keystroking\n",
        "\n",
        "def num_key_strokes(text):\n",
        "    dblchrs = '~!@#$%^&*()_+{}|:\"<>?ABCDEFGHIJKLMNOPQRSTUVWXYZ'\n",
        "    dbls = \"\"\n",
        "    for i in text:\n",
        "      if i in dblchrs:\n",
        "        dbls += i\n",
        "    return len(text) + len(dbls)\n",
        "\n",
        "def num_key_strokes2(text):\n",
        "  dbl = '~!@#$%^&*()_+{}|:\"<>?ABCDEFGHIJKLMNOPQRSTUVWXYZ'\n",
        "  return sum([2 if i in dbl else 1 for i in text])\n",
        "\n",
        "a = \"Hello World!\"\n",
        "num_key_strokes2(a)"
      ],
      "execution_count": null,
      "outputs": []
    },
    {
      "cell_type": "code",
      "metadata": {
        "id": "QkrQ9La7awib",
        "colab_type": "code",
        "colab": {}
      },
      "source": [
        "# 7. Form the Minimum\n",
        "# return smallest number formed by using each unique digit only once\n",
        "\n",
        "def min_value(digits):\n",
        "  z = int(\"\".join([str(i) for i in sorted(set(digits))]))\n",
        "  print(type(z))\n",
        "  return z\n",
        "\n",
        "min_value([1, 3, 1])      # answer 13\n",
        "#min_value([4, 7, 5, 7])   # answer 457\n",
        "#min_value([4, 8, 1, 4])   # answer 148"
      ],
      "execution_count": null,
      "outputs": []
    },
    {
      "cell_type": "code",
      "metadata": {
        "id": "NDX4QgBFbDp9",
        "colab_type": "code",
        "colab": {}
      },
      "source": [
        "# 7. Flatten and Sort Array\n",
        "# list of lists\n",
        "\n",
        "def flatten_and_sort(array):\n",
        "  return sorted([i for a in array for i in a])\n",
        "\n",
        "from itertools import chain\n",
        "def flatten_and_sort2(array):\n",
        "  return sorted((chain(*array)))\n",
        "\n",
        "#flatten_and_sort2([])                                  # answer []\n",
        "#flatten_and_sort2([[], [1]])                           # answer [1]\n",
        "#flatten_and_sort2([[3, 2, 1], [7, 9, 8], [6, 4, 5]])   # answer [1, 2, 3, 4, 5, 6, 7, 8, 9]\n",
        "flatten_and_sort2([[1, 3, 5], [100], [2, 4, 6]])        # answer [1, 2, 3, 4, 5, 6, 100]"
      ],
      "execution_count": null,
      "outputs": []
    },
    {
      "cell_type": "code",
      "metadata": {
        "id": "lUN5ljZxbGc5",
        "colab_type": "code",
        "colab": {}
      },
      "source": [
        "# 7. Password Hashes\n",
        "# return MD5 hash in hexadecimal\n",
        "\n",
        "import hashlib\n",
        "def pass_hash(str):\n",
        "    return hashlib.md5(str.encode()).hexdigest()\n",
        "\n",
        "pass_hash('password')  # answer '5f4dcc3b5aa765d61d8327deb882cf99'"
      ],
      "execution_count": null,
      "outputs": []
    },
    {
      "cell_type": "code",
      "metadata": {
        "id": "lDlZMdL6bJHR",
        "colab_type": "code",
        "colab": {}
      },
      "source": [
        "# 7. Interactive Dictionary\n",
        "\n",
        "class Dictionary():\n",
        "    def __init__(self):\n",
        "        self.dd = {}\n",
        "        \n",
        "    def newentry(self, word, definition):\n",
        "        self.dd[word] = definition\n",
        "        \n",
        "    def look(self, key):\n",
        "        return self.dd.get(key, \"Can't find entry for \"+key)\n",
        "\n",
        "# test\n",
        "b = Dictionary()\n",
        "    \n",
        "b.newentry(\"Apple\", \"A fruit\")\n",
        "b.look(\"Apple\")     # answer \"A fruit\"\n",
        "b.newentry(\"Soccer\", \"A sport\")\n",
        "b.look(\"Ball\")      # answer \"Can't find entry for Ball\"\n",
        "b.look(\"Hi\")        # answer \"Can't find entry for Hi\"\n",
        "b.look(\"Soccer\")    # answer \"A sport\")"
      ],
      "execution_count": null,
      "outputs": []
    },
    {
      "cell_type": "code",
      "metadata": {
        "id": "VVH3yfNsbLe3",
        "colab_type": "code",
        "colab": {}
      },
      "source": [
        "# 7. TV Remote\n",
        "# count number of steps to print word on TV remote keyboard\n",
        "\n",
        "\n",
        "def tv_remote(word):\n",
        "  # define data structure to represent keymap\n",
        "  characters = 'abcde123fghij456klmno789pqrst.@0uvwxyz_/'\n",
        "\n",
        "  width = 8             # keypad width\n",
        "  c_x = 0               # index of starting location\n",
        "  c_y = 0\n",
        "  total_steps = 0       # running sum of steps\n",
        "\n",
        "  # loop through 'word' string\n",
        "  for w in word:\n",
        "    print(f\"w: {w}\")\n",
        "    print(f\"cursor: {c_x, c_y}\")\n",
        "\n",
        "    # co-ords of w\n",
        "    w_index = characters.find(w)\n",
        "    w_x = (w_index % width)       # column number\n",
        "    w_y = (w_index // width)      # row number\n",
        "    print(f\"index: {w_index}\")\n",
        "    print(f\"w co-ords: {w_x, w_y}\")\n",
        "\n",
        "    # steps from cursor\n",
        "    w_x_steps = abs(w_x - c_x)\n",
        "    w_y_steps = abs(w_y - c_y)\n",
        "    w_steps = w_x_steps + w_y_steps + 1           # extra for 'OK' button\n",
        "    print(f\"difference: {w_x_steps, w_y_steps}\")\n",
        "    print(f\"w_steps: {w_steps}\")\n",
        "\n",
        "    # update cursor location\n",
        "    c_x = w_x\n",
        "    c_y = w_y\n",
        "\n",
        "    # increment running total\n",
        "    total_steps += w_steps\n",
        "    print(f\"total_steps: {total_steps}\\n\")\n",
        "    \n",
        "  return total_steps\n",
        "\n",
        "#tv_remote(\"codewars\") # 36\n",
        "#tv_remote(\"solution\") # 33\n",
        "tv_remote(\"does\")     # 16"
      ],
      "execution_count": null,
      "outputs": []
    },
    {
      "cell_type": "code",
      "metadata": {
        "id": "Xi3Wk_stbUuK",
        "colab_type": "code",
        "colab": {}
      },
      "source": [
        "# clever solution\n",
        "# use div & mod to determine co-ordinates from string\n",
        "# coordinate map created using dict comprehension\n",
        "# zip offset words to get current & previous characters as tuple\n",
        "# manhatten function to measure grid distance of tuple\n",
        "# add len(word) to account for 'OK' button every character\n",
        "\n",
        "def manhattan(s,t):\n",
        "    k = sum(abs(y-x) for x,y in zip(s,t))\n",
        "    return k\n",
        "\n",
        "def tv_remote(word):\n",
        "    KEYBOARD = 'abcde123fghij456klmno789pqrst.@0uvwxyz_/'\n",
        "    MAP      = {c: (i//8, i%8) for i,c in enumerate(KEYBOARD)}\n",
        "    print(MAP)\n",
        "\n",
        "    for prev,curr in zip('a'+word, word):\n",
        "      print(prev, curr, (MAP[prev], MAP[curr]))\n",
        "\n",
        "    total_length = len(word) + sum(manhattan(MAP[prev], MAP[curr]) for prev,curr in zip('a'+word, word))\n",
        "    return total_length\n",
        "\n",
        "tv_remote(\"codewars\") # 36"
      ],
      "execution_count": null,
      "outputs": []
    }
  ]
}