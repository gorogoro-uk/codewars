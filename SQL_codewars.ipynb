{
  "nbformat": 4,
  "nbformat_minor": 0,
  "metadata": {
    "colab": {
      "name": "Untitled0.ipynb",
      "provenance": [],
      "authorship_tag": "ABX9TyMP7/EtLfIXNx/5sauA56M0",
      "include_colab_link": true
    },
    "kernelspec": {
      "name": "python3",
      "display_name": "Python 3"
    }
  },
  "cells": [
    {
      "cell_type": "markdown",
      "metadata": {
        "id": "view-in-github",
        "colab_type": "text"
      },
      "source": [
        "<a href=\"https://colab.research.google.com/github/gorogoro-uk/codewars/blob/master/SQL_codewars.ipynb\" target=\"_parent\"><img src=\"https://colab.research.google.com/assets/colab-badge.svg\" alt=\"Open In Colab\"/></a>"
      ]
    },
    {
      "cell_type": "markdown",
      "metadata": {
        "id": "qKHl1xo61vYB",
        "colab_type": "text"
      },
      "source": [
        "# **SQL: Codewars**"
      ]
    },
    {
      "cell_type": "code",
      "metadata": {
        "id": "q_ehAsPM1upQ",
        "colab_type": "code",
        "colab": {}
      },
      "source": [
        "# 7. SQL with Street Fighter: Total Wins\n",
        "\"\"\"\n",
        "fighters:\n",
        "id, name, won, lost, move_id\n",
        "\n",
        "winning_moves:\n",
        "id, move\n",
        "\n",
        "\n",
        "return this:\n",
        "name, won, lost\n",
        "exclude wins/losses:  hadoken, shouoken, kikoken\n",
        "order msot to least wins\n",
        "top 6 only\n",
        "ignore ties\n",
        "\n",
        "\"\"\"\n",
        "\n",
        "SELECT \n",
        "    name\n",
        "    ,sum(won)  as won\n",
        "    ,sum(lost) as lost\n",
        "\n",
        "FROM\n",
        "    fighters as f\n",
        "    inner join winning_moves as wm\n",
        "      on f.move_id = wm.id\n",
        "\n",
        "WHERE wm.move in ('Hadoken','Shouoken','Kikoken')\n",
        "\n",
        "GROUP BY name\n",
        "\n",
        "ORDER BY sum(won)\n",
        "\n",
        "#LIMIT = 6   # MySQL syntax"
      ],
      "execution_count": null,
      "outputs": []
    }
  ]
}