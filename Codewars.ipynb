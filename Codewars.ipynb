{
  "nbformat": 4,
  "nbformat_minor": 0,
  "metadata": {
    "colab": {
      "name": "Codewars.ipynb",
      "provenance": [],
      "collapsed_sections": [],
      "authorship_tag": "ABX9TyNt8gV/Lob8VSsqkQKP1Lpm",
      "include_colab_link": true
    },
    "kernelspec": {
      "name": "python3",
      "display_name": "Python 3"
    }
  },
  "cells": [
    {
      "cell_type": "markdown",
      "metadata": {
        "id": "view-in-github",
        "colab_type": "text"
      },
      "source": [
        "<a href=\"https://colab.research.google.com/github/gorogoro-uk/codewars/blob/master/Codewars.ipynb\" target=\"_parent\"><img src=\"https://colab.research.google.com/assets/colab-badge.svg\" alt=\"Open In Colab\"/></a>"
      ]
    },
    {
      "cell_type": "markdown",
      "metadata": {
        "id": "oycl3Hy8B2HN",
        "colab_type": "text"
      },
      "source": [
        "**Codewars**"
      ]
    },
    {
      "cell_type": "code",
      "metadata": {
        "id": "7mh2ws7RB0A6",
        "colab_type": "code",
        "colab": {
          "base_uri": "https://localhost:8080/",
          "height": 34
        },
        "outputId": "134477ea-5c49-415a-b1f2-473de89ae155"
      },
      "source": [
        "# 7: Return a string's even characters.\n",
        "\n",
        "def even_chars(st): \n",
        "    # your code here\n",
        "    if len(st) < 2 or len(st) > 100:\n",
        "        return \"invalid string\"\n",
        "    else:\n",
        "        return list(st)[1::2]\n",
        "    pass\n",
        "\n",
        "# test\n",
        "x = \"asdfasdfa\\nasdf\\nbnhgfd\"\n",
        "even_chars(x)"
      ],
      "execution_count": null,
      "outputs": [
        {
          "output_type": "execute_result",
          "data": {
            "text/plain": [
              "['s', 'f', 's', 'f', '\\n', 's', 'f', 'b', 'h', 'f']"
            ]
          },
          "metadata": {
            "tags": []
          },
          "execution_count": 22
        }
      ]
    },
    {
      "cell_type": "code",
      "metadata": {
        "id": "4ErXQG60FBPb",
        "colab_type": "code",
        "colab": {}
      },
      "source": [
        "# 6: CamelCase\n",
        "from re import sub\n",
        "\n",
        "\n",
        "def to_camel_case(text):\n",
        "    if len(text) == 0:\n",
        "      return\n",
        "    return text[0] + sub(r\"(_|-)+\",\" \",text).title().replace(\" \",\"\")[1:]\n",
        "    \n",
        "def to_camel_case2(s):\n",
        "    return s[0] + s.title().translate(None, \"-_\")[1:] if s else s\n",
        "\n",
        "\n",
        "# test \n",
        "a = \"Cat_Dog\"\n",
        "b = \"python_is_the_best-language!\"\n",
        "c = \"\"\n",
        "d = \"f\"\n",
        "e = \"K\"\n",
        "f = \"_w_\"\n",
        "\n",
        "to_camel_case(c)"
      ],
      "execution_count": null,
      "outputs": []
    },
    {
      "cell_type": "code",
      "metadata": {
        "id": "cNRpVu-jNYro",
        "colab_type": "code",
        "colab": {
          "base_uri": "https://localhost:8080/",
          "height": 51
        },
        "outputId": "eaff1fca-e72d-4542-f938-3f4cb09983c3"
      },
      "source": [
        "# 8. Take the Derivative\n",
        "\n",
        "def derive(coefficient, exponent): \n",
        "    return print('\"'+str(coefficient*exponent)+\"x^\"+str(exponent - 1)+'\"')\n",
        "\n",
        "derive(7,8)\n",
        "derive(5,9)"
      ],
      "execution_count": null,
      "outputs": [
        {
          "output_type": "stream",
          "text": [
            "\"56x^7\"\n",
            "\"45x^8\"\n"
          ],
          "name": "stdout"
        }
      ]
    },
    {
      "cell_type": "code",
      "metadata": {
        "id": "N8JkLX8U7q2t",
        "colab_type": "code",
        "colab": {
          "base_uri": "https://localhost:8080/",
          "height": 374
        },
        "outputId": "5a017eb4-7a25-41f6-d615-d483a016d47b"
      },
      "source": [
        "# 7. Pluck\n",
        "\n",
        "def pluck(objs, name):\n",
        "    print(f\"name: {name}\")\n",
        "\n",
        "    x = []\n",
        "    for i, dct in enumerate(objs):\n",
        "      print(f\"i: {i}\")\n",
        "      print(f\"dct: {dct}\")\n",
        "\n",
        "      for key, val in dct.items():\n",
        "        print(f\"key: {key}\")\n",
        "        if name == key:\n",
        "          x.append(val)\n",
        "          \n",
        "      if name == None:\n",
        "        print(\"Test for None\")\n",
        "        x.append(None)\n",
        "\n",
        "    return x\n",
        "\n",
        "objs = [{'a':1, 'b':2, 'c': 3}, {'a':4, 'b':5, 'c': 6}, {'a':7, 'b':8, 'c': 9}, {'a':10, 'b':11}]\n",
        "pluck(objs, 'c')"
      ],
      "execution_count": null,
      "outputs": [
        {
          "output_type": "stream",
          "text": [
            "name: c\n",
            "i: 0\n",
            "dct: {'a': 1, 'b': 2, 'c': 3}\n",
            "key: a\n",
            "key: b\n",
            "key: c\n",
            "i: 1\n",
            "dct: {'a': 4, 'b': 5, 'c': 6}\n",
            "key: a\n",
            "key: b\n",
            "key: c\n",
            "i: 2\n",
            "dct: {'a': 7, 'b': 8, 'c': 9}\n",
            "key: a\n",
            "key: b\n",
            "key: c\n",
            "i: 3\n",
            "dct: {'a': 10, 'b': 11}\n",
            "key: a\n",
            "key: b\n"
          ],
          "name": "stdout"
        },
        {
          "output_type": "execute_result",
          "data": {
            "text/plain": [
              "[3, 6, 9]"
            ]
          },
          "metadata": {
            "tags": []
          },
          "execution_count": 19
        }
      ]
    },
    {
      "cell_type": "code",
      "metadata": {
        "id": "g6fmJo8tF0Pl",
        "colab_type": "code",
        "colab": {
          "base_uri": "https://localhost:8080/",
          "height": 561
        },
        "outputId": "a5cd245e-412b-4bee-d547-5a42217223a0"
      },
      "source": [
        "# 7. Unique in Order\n",
        "import array as arr\n",
        "\n",
        "def unique_in_order(iterable):\n",
        "    x = []\n",
        "    # print(f\"start x: {x}\")\n",
        "    for i, item in enumerate(iterable):\n",
        "        print(f\"i:    {i}\")\n",
        "        print(f\"item: {item}\")\n",
        "        if i == 0:\n",
        "          x.append(item)\n",
        "          print(f\"x at end first loop: {x}\")\n",
        "          continue\n",
        "        print(f\"x[-1]: {x[-1]}\")\n",
        "        if x[-1] != item:\n",
        "          x.append(item)\n",
        "        print(f\"x end loop: {x}\")\n",
        "    return x\n",
        "\n",
        "#a = 'AAAABBCCCCCCCDEFGHGGRRR'\n",
        "a = arr.array('i',[1,2,2,2,2,3,3,4])\n",
        "unique_in_order(a)"
      ],
      "execution_count": null,
      "outputs": [
        {
          "output_type": "stream",
          "text": [
            "i:    0\n",
            "item: 1\n",
            "x at end first loop: [1]\n",
            "i:    1\n",
            "item: 2\n",
            "x[-1]: 1\n",
            "x end loop: [1, 2]\n",
            "i:    2\n",
            "item: 2\n",
            "x[-1]: 2\n",
            "x end loop: [1, 2]\n",
            "i:    3\n",
            "item: 2\n",
            "x[-1]: 2\n",
            "x end loop: [1, 2]\n",
            "i:    4\n",
            "item: 2\n",
            "x[-1]: 2\n",
            "x end loop: [1, 2]\n",
            "i:    5\n",
            "item: 3\n",
            "x[-1]: 2\n",
            "x end loop: [1, 2, 3]\n",
            "i:    6\n",
            "item: 3\n",
            "x[-1]: 3\n",
            "x end loop: [1, 2, 3]\n",
            "i:    7\n",
            "item: 4\n",
            "x[-1]: 3\n",
            "x end loop: [1, 2, 3, 4]\n"
          ],
          "name": "stdout"
        },
        {
          "output_type": "execute_result",
          "data": {
            "text/plain": [
              "[1, 2, 3, 4]"
            ]
          },
          "metadata": {
            "tags": []
          },
          "execution_count": 42
        }
      ]
    },
    {
      "cell_type": "code",
      "metadata": {
        "id": "d1GhFzIyD_Gu",
        "colab_type": "code",
        "colab": {
          "base_uri": "https://localhost:8080/",
          "height": 34
        },
        "outputId": "33df5830-6bb9-41da-97e9-3a1298f1b27f"
      },
      "source": [
        "# 7. keystroking\n",
        "\n",
        "def num_key_strokes(text):\n",
        "    dblchrs = '~!@#$%^&*()_+{}|:\"<>?ABCDEFGHIJKLMNOPQRSTUVWXYZ'\n",
        "    dbls = \"\"\n",
        "    for i in text:\n",
        "      if i in dblchrs:\n",
        "        dbls += i\n",
        "    return len(text) + len(dbls)\n",
        "\n",
        "def num_key_strokes2(text):\n",
        "  dbl = '~!@#$%^&*()_+{}|:\"<>?ABCDEFGHIJKLMNOPQRSTUVWXYZ'\n",
        "  return sum([2 if i in dbl else 1 for i in text])\n",
        "\n",
        "a = \"Hello World!\"\n",
        "num_key_strokes2(a)"
      ],
      "execution_count": null,
      "outputs": [
        {
          "output_type": "execute_result",
          "data": {
            "text/plain": [
              "15"
            ]
          },
          "metadata": {
            "tags": []
          },
          "execution_count": 6
        }
      ]
    },
    {
      "cell_type": "code",
      "metadata": {
        "id": "rZlvT30SkzAu",
        "colab_type": "code",
        "colab": {
          "base_uri": "https://localhost:8080/",
          "height": 34
        },
        "outputId": "8d9fac49-2acd-4bf1-9f00-3859d31f1a6f"
      },
      "source": [
        "# 5. Pete, the Baker\n",
        "\n",
        "def cakes(recipe, available):\n",
        "  if not(set(recipe).issubset(set(available))):\n",
        "    return 0\n",
        "  else:\n",
        "    return min({k: available[k]//recipe[k] for k in recipe}.values(), default=0)\n",
        "\n",
        "# winning solution\n",
        "# def cakes(recipe, available):\n",
        "#   return min(available.get(k, 0)/recipe[k] for k in recipe)\n",
        "\n",
        "# test: answer 2\n",
        "recipe = {\"flour\": 500, \"sugar\": 200, \"eggs\": 1}\n",
        "available = {\"flour\": 1200, \"sugar\": 1200, \"eggs\": 5, \"milk\": 200}\n",
        "\n",
        "cakes(recipe, available)"
      ],
      "execution_count": null,
      "outputs": [
        {
          "output_type": "execute_result",
          "data": {
            "text/plain": [
              "2"
            ]
          },
          "metadata": {
            "tags": []
          },
          "execution_count": 14
        }
      ]
    },
    {
      "cell_type": "code",
      "metadata": {
        "id": "sZ3MAG3ANklI",
        "colab_type": "code",
        "colab": {
          "base_uri": "https://localhost:8080/",
          "height": 37
        },
        "outputId": "1f860f9b-fc6c-4cb6-d85d-23994e438816"
      },
      "source": [
        "# 6. New Cashier Does Not Know About Space or Shift\n",
        "\n",
        "menu = ['Burger','Fries','Chicken','Pizza','Sandwich', 'Onionrings', 'Milkshake', 'Coke']\n",
        "\n",
        "def get_order(order):\n",
        "  x = \"\"\n",
        "  for i, item in enumerate(menu):\n",
        "    n = order.count(str.lower(item))\n",
        "    x = x + \"\".join((item+' ') * n)\n",
        "  return str.strip(x)\n",
        "\n",
        "# test: answer \"Burger Fries Fries Chicken Pizza Sandwich Milkshake Coke\"\n",
        "get_order(\"pizzachickenfriesburgercokemilkshakefriessandwich\")"
      ],
      "execution_count": null,
      "outputs": [
        {
          "output_type": "execute_result",
          "data": {
            "application/vnd.google.colaboratory.intrinsic+json": {
              "type": "string"
            },
            "text/plain": [
              "'Burger Fries Fries Chicken Pizza Sandwich Milkshake Coke'"
            ]
          },
          "metadata": {
            "tags": []
          },
          "execution_count": 8
        }
      ]
    },
    {
      "cell_type": "code",
      "metadata": {
        "id": "X9mZCeTPUjDG",
        "colab_type": "code",
        "colab": {
          "base_uri": "https://localhost:8080/",
          "height": 37
        },
        "outputId": "8b2a849a-0364-4de3-f6b1-280ed3c1f312"
      },
      "source": [
        "MENU = [\"Burger\", \"Fries\", \"Chicken\", \"Pizza\", \"Sandwich\", \"Onionrings\", \"Milkshake\", \"Coke\"]\n",
        "\n",
        "#  use list to store words\n",
        "def get_order(order):\n",
        "    result = []\n",
        "    for item in MENU:\n",
        "        result.extend([item for _ in range(order.count(item.lower()))])\n",
        "    return \" \".join(result)\n",
        "\n",
        "get_order(\"pizzachickenfriesburgercokemilkshakefriessandwich\")   "
      ],
      "execution_count": null,
      "outputs": [
        {
          "output_type": "execute_result",
          "data": {
            "application/vnd.google.colaboratory.intrinsic+json": {
              "type": "string"
            },
            "text/plain": [
              "'Burger Fries Fries Chicken Pizza Sandwich Milkshake Coke'"
            ]
          },
          "metadata": {
            "tags": []
          },
          "execution_count": 10
        }
      ]
    },
    {
      "cell_type": "code",
      "metadata": {
        "id": "Ew6LuwUUVQTM",
        "colab_type": "code",
        "colab": {
          "base_uri": "https://localhost:8080/",
          "height": 37
        },
        "outputId": "7a89ffe6-98d3-4b4b-8caf-d7b7dd98d6f4"
      },
      "source": [
        "#  6. dubstep\n",
        "\n",
        "def song_decoder(song):\n",
        "    return ' '.join(song.replace('WUB',' ').split())\n",
        "\n",
        "#  test: answer \"A B C\", \"heading or trailing spaces should be removed\"\n",
        "song_decoder(\"WUBAWUBBWUBCWUB\")"
      ],
      "execution_count": null,
      "outputs": [
        {
          "output_type": "execute_result",
          "data": {
            "application/vnd.google.colaboratory.intrinsic+json": {
              "type": "string"
            },
            "text/plain": [
              "'A B C'"
            ]
          },
          "metadata": {
            "tags": []
          },
          "execution_count": 15
        }
      ]
    },
    {
      "cell_type": "code",
      "metadata": {
        "id": "UQJEqaSgZb9a",
        "colab_type": "code",
        "colab": {
          "base_uri": "https://localhost:8080/",
          "height": 34
        },
        "outputId": "74e5f48c-0c4a-4628-d8cb-1f4a32767fdb"
      },
      "source": [
        "# 6. persistent bugger\n",
        "\n",
        "def persistence(n):\n",
        "    prod = n\n",
        "    i = 0\n",
        "    while prod > 9:                 # test value\n",
        "      i += 1                        # increment times counter\n",
        "      digits = list(str(prod))      # separate digits\n",
        "      prod = 1\n",
        "      for digit in digits:    \n",
        "        prod = prod * int(digit)    # mulitply digits together\n",
        "    return i\n",
        "\n",
        "persistence(39)      # 3\n",
        "#persistence(4)      # 0\n",
        "#persistence2(999)    # 4 "
      ],
      "execution_count": null,
      "outputs": [
        {
          "output_type": "execute_result",
          "data": {
            "text/plain": [
              "3"
            ]
          },
          "metadata": {
            "tags": []
          },
          "execution_count": 33
        }
      ]
    },
    {
      "cell_type": "code",
      "metadata": {
        "id": "ox3Ef4el6WDe",
        "colab_type": "code",
        "colab": {
          "base_uri": "https://localhost:8080/",
          "height": 272
        },
        "outputId": "c538bfca-f56f-43f3-d114-1f6ac85b5a05"
      },
      "source": [
        "# persistnet bugger: best answer\n",
        "import operator\n",
        "from functools import reduce\n",
        "def persistence2(n):\n",
        "    i = 0\n",
        "    while n >= 10:\n",
        "        [print(\"digit: \",int(x)) for x in str(n)]\n",
        "        n = reduce(operator.mul,[int(x) for x in str(n)],1)\n",
        "        print(\"n:  \",n)\n",
        "        i += 1\n",
        "        print(\"i at end:  \",i)\n",
        "    return i\n",
        "\n",
        "persistence2(396)      # 3\n",
        "#persistence2(4)      # 0\n",
        "#persistence2(999)    # 4 "
      ],
      "execution_count": null,
      "outputs": [
        {
          "output_type": "stream",
          "text": [
            "digit:  3\n",
            "digit:  9\n",
            "digit:  6\n",
            "n:   162\n",
            "i at end:   1\n",
            "digit:  1\n",
            "digit:  6\n",
            "digit:  2\n",
            "n:   12\n",
            "i at end:   2\n",
            "digit:  1\n",
            "digit:  2\n",
            "n:   2\n",
            "i at end:   3\n"
          ],
          "name": "stdout"
        },
        {
          "output_type": "execute_result",
          "data": {
            "text/plain": [
              "3"
            ]
          },
          "metadata": {
            "tags": []
          },
          "execution_count": 50
        }
      ]
    },
    {
      "cell_type": "code",
      "metadata": {
        "id": "6vnOcESB94tf",
        "colab_type": "code",
        "colab": {
          "base_uri": "https://localhost:8080/",
          "height": 34
        },
        "outputId": "2ed073be-1ba3-4baa-830a-a6ad60d10514"
      },
      "source": [
        "# 7. pluck\n",
        "\n",
        "def pluck(objs, name): \n",
        "    x = []\n",
        "    for dct in objs:\n",
        "      x.append(dct.get(name, None))\n",
        "    return x\n",
        "\n",
        "# alternative solution\n",
        "def pluck2(objs, name):\n",
        "    return [item.get(name, None) for item in objs]\n",
        "\n",
        "objs = [{'a':1, 'b':2, 'c': 3}, {'a':4, 'b':5, 'c': 6}, {'a':7, 'b':8, 'c': 9}, {'a':10, 'b':11}]\n",
        "\n",
        "\n",
        "# test\n",
        "#pluck(objs,'a')     # answer [1,4,7,10]\n",
        "#pluck2(objs,'c')     # answer [3,6,9,None]\n",
        "pluck2(objs,'e')     # answer [None, None, None, None]"
      ],
      "execution_count": null,
      "outputs": [
        {
          "output_type": "execute_result",
          "data": {
            "text/plain": [
              "[None, None, None, None]"
            ]
          },
          "metadata": {
            "tags": []
          },
          "execution_count": 66
        }
      ]
    },
    {
      "cell_type": "code",
      "metadata": {
        "id": "0o01nt9EGeLN",
        "colab_type": "code",
        "colab": {
          "base_uri": "https://localhost:8080/",
          "height": 51
        },
        "outputId": "063c2bd8-539a-4195-a1f3-249d793986bc"
      },
      "source": [
        "# 7. Form the Minimum\n",
        "# return smallest number formed by using each unique digit only once\n",
        "\n",
        "def min_value(digits):\n",
        "  z = int(\"\".join([str(i) for i in sorted(set(digits))]))\n",
        "  print(type(z))\n",
        "  return z\n",
        "\n",
        "min_value([1, 3, 1])      # answer 13\n",
        "#min_value([4, 7, 5, 7])   # answer 457\n",
        "#min_value([4, 8, 1, 4])   # answer 148"
      ],
      "execution_count": null,
      "outputs": [
        {
          "output_type": "stream",
          "text": [
            "<class 'int'>\n"
          ],
          "name": "stdout"
        },
        {
          "output_type": "execute_result",
          "data": {
            "text/plain": [
              "13"
            ]
          },
          "metadata": {
            "tags": []
          },
          "execution_count": 84
        }
      ]
    },
    {
      "cell_type": "code",
      "metadata": {
        "id": "7yldwqf4Lgdk",
        "colab_type": "code",
        "colab": {
          "base_uri": "https://localhost:8080/",
          "height": 34
        },
        "outputId": "20ecc936-9c74-4733-a820-045012751caa"
      },
      "source": [
        "# 7. Flatten and Sort Array\n",
        "# list of lists\n",
        "\n",
        "def flatten_and_sort(array):\n",
        "  return sorted([i for a in array for i in a])\n",
        "\n",
        "from itertools import chain\n",
        "def flatten_and_sort2(array):\n",
        "  return sorted((chain(*array)))\n",
        "\n",
        "#flatten_and_sort2([])                                  # answer []\n",
        "#flatten_and_sort2([[], [1]])                           # answer [1]\n",
        "#flatten_and_sort2([[3, 2, 1], [7, 9, 8], [6, 4, 5]])   # answer [1, 2, 3, 4, 5, 6, 7, 8, 9]\n",
        "flatten_and_sort2([[1, 3, 5], [100], [2, 4, 6]])        # answer [1, 2, 3, 4, 5, 6, 100]"
      ],
      "execution_count": null,
      "outputs": [
        {
          "output_type": "execute_result",
          "data": {
            "text/plain": [
              "[1, 2, 3, 4, 5, 6, 100]"
            ]
          },
          "metadata": {
            "tags": []
          },
          "execution_count": 99
        }
      ]
    },
    {
      "cell_type": "code",
      "metadata": {
        "id": "QncyvKyCRrk1",
        "colab_type": "code",
        "colab": {
          "base_uri": "https://localhost:8080/",
          "height": 37
        },
        "outputId": "f85d0ece-5773-453e-db7a-b595ae89490a"
      },
      "source": [
        "# 7. Password Hashes\n",
        "# return MD5 hash in hexadecimal\n",
        "\n",
        "import hashlib\n",
        "def pass_hash(str):\n",
        "    return hashlib.md5(str.encode()).hexdigest()\n",
        "\n",
        "pass_hash('password')  # answer '5f4dcc3b5aa765d61d8327deb882cf99'"
      ],
      "execution_count": null,
      "outputs": [
        {
          "output_type": "execute_result",
          "data": {
            "application/vnd.google.colaboratory.intrinsic+json": {
              "type": "string"
            },
            "text/plain": [
              "'5f4dcc3b5aa765d61d8327deb882cf99'"
            ]
          },
          "metadata": {
            "tags": []
          },
          "execution_count": 3
        }
      ]
    },
    {
      "cell_type": "code",
      "metadata": {
        "id": "n7-Uye-MYOFf",
        "colab_type": "code",
        "colab": {
          "base_uri": "https://localhost:8080/",
          "height": 37
        },
        "outputId": "3cd2a58c-a3b1-4e73-d76e-f1203ed54928"
      },
      "source": [
        "# 7. Interactive Dictionary\n",
        "\n",
        "class Dictionary():\n",
        "    def __init__(self):\n",
        "        self.dd = {}\n",
        "        \n",
        "    def newentry(self, word, definition):\n",
        "        self.dd[word] = definition\n",
        "        \n",
        "    def look(self, key):\n",
        "        return self.dd.get(key, \"Can't find entry for \"+key)\n",
        "\n",
        "# test\n",
        "b = Dictionary()\n",
        "    \n",
        "b.newentry(\"Apple\", \"A fruit\")\n",
        "b.look(\"Apple\")     # answer \"A fruit\"\n",
        "b.newentry(\"Soccer\", \"A sport\")\n",
        "b.look(\"Ball\")      # answer \"Can't find entry for Ball\"\n",
        "b.look(\"Hi\")        # answer \"Can't find entry for Hi\"\n",
        "b.look(\"Soccer\")    # answer \"A sport\")"
      ],
      "execution_count": null,
      "outputs": [
        {
          "output_type": "execute_result",
          "data": {
            "application/vnd.google.colaboratory.intrinsic+json": {
              "type": "string"
            },
            "text/plain": [
              "'A sport'"
            ]
          },
          "metadata": {
            "tags": []
          },
          "execution_count": 20
        }
      ]
    },
    {
      "cell_type": "code",
      "metadata": {
        "id": "bpjsnIlAmQKQ",
        "colab_type": "code",
        "colab": {
          "base_uri": "https://localhost:8080/",
          "height": 34
        },
        "outputId": "0db48cdb-fb40-4ff9-fb19-4226f6e1bf35"
      },
      "source": [
        "# 5. Calculating wtih Functions\n",
        "# f() returns a lambda function with the math operation\n",
        "# number functions return number if last, or f(number) if first\n",
        "\n",
        "def zero(f=None): return 0 if f is None else f(0)\n",
        "def one(f=None): return 1 if f is None else f(1)\n",
        "def two(f=None): return 2 if f is None else f(2)\n",
        "def three(f=None): return 3 if f is None else f(3)\n",
        "def four(f=None): return 4 if f is None else f(4)\n",
        "def five(f=None): return 5 if f is None else f(5)\n",
        "def six(f=None): return 6 if f is None else f(6)\n",
        "def seven(f=None): return 7 if f is None else f(7)\n",
        "def eight(f=None): return 8 if f is None else f(8)\n",
        "def nine(f=None): return 9 if f is None else f(9)\n",
        "\n",
        "def plus(x): \n",
        "  return lambda y: y + x\n",
        "\n",
        "def minus(x): \n",
        "  return lambda y: y - x\n",
        "\n",
        "def times(x): \n",
        "  return lambda y: y * x\n",
        "\n",
        "def divided_by(x): \n",
        "  return lambda y: int(y / x)\n",
        "\n",
        "# test\n",
        "seven(times(five()))        # answer 35"
      ],
      "execution_count": null,
      "outputs": [
        {
          "output_type": "execute_result",
          "data": {
            "text/plain": [
              "35"
            ]
          },
          "metadata": {
            "tags": []
          },
          "execution_count": 21
        }
      ]
    },
    {
      "cell_type": "code",
      "metadata": {
        "id": "HYY0lz0dV3AV",
        "colab_type": "code",
        "colab": {
          "base_uri": "https://localhost:8080/",
          "height": 34
        },
        "outputId": "9eb7390e-3c62-4d66-cecd-209672a32634"
      },
      "source": [
        "# is it possible to condense the operation function's with lambda functions\n",
        "# in the same way the numer functions are generated below?\n",
        "\n",
        "id_ = lambda x: x\n",
        "number = lambda x: lambda f=id_: f(x)\n",
        "zero, one, two, three, four, five, six, seven, eight, nine = map(number, range(10))\n",
        "\n",
        "plus = lambda x: lambda y: y + x\n",
        "minus = lambda x: lambda y: y - x\n",
        "times = lambda x: lambda y: y * x\n",
        "divided_by = lambda x: lambda y: y / x\n",
        "\n",
        "# how to use lambda to create the four operation functions ?\n",
        "op = lambda i: lambda j: \n",
        "plus, minus, times, divide_by = map(, (+,-,*,/))\n",
        "\n",
        "seven(times(five()))"
      ],
      "execution_count": null,
      "outputs": [
        {
          "output_type": "execute_result",
          "data": {
            "text/plain": [
              "35"
            ]
          },
          "metadata": {
            "tags": []
          },
          "execution_count": 23
        }
      ]
    },
    {
      "cell_type": "code",
      "metadata": {
        "id": "xAgaxEOevDCX",
        "colab_type": "code",
        "colab": {
          "base_uri": "https://localhost:8080/",
          "height": 334
        },
        "outputId": "d106a9a1-4edd-40ad-dd97-7d73acca0e90"
      },
      "source": [
        "# 6. Image Host Filename Generator\n",
        "import random\n",
        "import string\n",
        "\n",
        "def generateName():\n",
        "    while True:\n",
        "      name = \"\".join(random.choices(string.ascii_letters,k=6))\n",
        "      if name.:\n",
        "        return name\n",
        "\n",
        "\n",
        "for i in range(10):\n",
        "  name = generateName();\n",
        "  print(name)"
      ],
      "execution_count": null,
      "outputs": [
        {
          "output_type": "error",
          "ename": "NameError",
          "evalue": "ignored",
          "traceback": [
            "\u001b[0;31m---------------------------------------------------------------------------\u001b[0m",
            "\u001b[0;31mNameError\u001b[0m                                 Traceback (most recent call last)",
            "\u001b[0;32m<ipython-input-8-6e505785df93>\u001b[0m in \u001b[0;36m<module>\u001b[0;34m()\u001b[0m\n\u001b[1;32m     11\u001b[0m \u001b[0;34m\u001b[0m\u001b[0m\n\u001b[1;32m     12\u001b[0m \u001b[0;32mfor\u001b[0m \u001b[0mi\u001b[0m \u001b[0;32min\u001b[0m \u001b[0mrange\u001b[0m\u001b[0;34m(\u001b[0m\u001b[0;36m10\u001b[0m\u001b[0;34m)\u001b[0m\u001b[0;34m:\u001b[0m\u001b[0;34m\u001b[0m\u001b[0;34m\u001b[0m\u001b[0m\n\u001b[0;32m---> 13\u001b[0;31m   \u001b[0mname\u001b[0m \u001b[0;34m=\u001b[0m \u001b[0mgenerateName\u001b[0m\u001b[0;34m(\u001b[0m\u001b[0;34m)\u001b[0m\u001b[0;34m;\u001b[0m\u001b[0;34m\u001b[0m\u001b[0;34m\u001b[0m\u001b[0m\n\u001b[0m\u001b[1;32m     14\u001b[0m   \u001b[0mprint\u001b[0m\u001b[0;34m(\u001b[0m\u001b[0mname\u001b[0m\u001b[0;34m)\u001b[0m\u001b[0;34m\u001b[0m\u001b[0;34m\u001b[0m\u001b[0m\n",
            "\u001b[0;32m<ipython-input-8-6e505785df93>\u001b[0m in \u001b[0;36mgenerateName\u001b[0;34m()\u001b[0m\n\u001b[1;32m      6\u001b[0m     \u001b[0;32mwhile\u001b[0m \u001b[0;32mTrue\u001b[0m\u001b[0;34m:\u001b[0m\u001b[0;34m\u001b[0m\u001b[0;34m\u001b[0m\u001b[0m\n\u001b[1;32m      7\u001b[0m       \u001b[0mname\u001b[0m \u001b[0;34m=\u001b[0m \u001b[0;34m\"\"\u001b[0m\u001b[0;34m.\u001b[0m\u001b[0mjoin\u001b[0m\u001b[0;34m(\u001b[0m\u001b[0mrandom\u001b[0m\u001b[0;34m.\u001b[0m\u001b[0mchoices\u001b[0m\u001b[0;34m(\u001b[0m\u001b[0mstring\u001b[0m\u001b[0;34m.\u001b[0m\u001b[0mascii_letters\u001b[0m\u001b[0;34m,\u001b[0m\u001b[0mk\u001b[0m\u001b[0;34m=\u001b[0m\u001b[0;36m6\u001b[0m\u001b[0;34m)\u001b[0m\u001b[0;34m)\u001b[0m\u001b[0;34m\u001b[0m\u001b[0;34m\u001b[0m\u001b[0m\n\u001b[0;32m----> 8\u001b[0;31m       \u001b[0;32mif\u001b[0m \u001b[0mphotoManager\u001b[0m\u001b[0;34m.\u001b[0m\u001b[0mnameWasUnique\u001b[0m\u001b[0;34m(\u001b[0m\u001b[0mname\u001b[0m\u001b[0;34m)\u001b[0m\u001b[0;34m:\u001b[0m\u001b[0;34m\u001b[0m\u001b[0;34m\u001b[0m\u001b[0m\n\u001b[0m\u001b[1;32m      9\u001b[0m         \u001b[0;32mreturn\u001b[0m \u001b[0mname\u001b[0m\u001b[0;34m\u001b[0m\u001b[0;34m\u001b[0m\u001b[0m\n\u001b[1;32m     10\u001b[0m \u001b[0;34m\u001b[0m\u001b[0m\n",
            "\u001b[0;31mNameError\u001b[0m: name 'photoManager' is not defined"
          ]
        }
      ]
    },
    {
      "cell_type": "code",
      "metadata": {
        "id": "MWDorobNhaKV",
        "colab_type": "code",
        "colab": {
          "base_uri": "https://localhost:8080/",
          "height": 187
        },
        "outputId": "1d15ac43-fb84-423e-fb15-d39b9f76b953"
      },
      "source": [
        "# 6. Image Host Filename Generator\n",
        "import random\n",
        "import string\n",
        "\n",
        "def generateName():\n",
        "  while True:\n",
        "    name = \"\".join(random.choices(string.ascii_letters,k=6))\n",
        "    print(name)\n",
        "    if name[0] == 'A':  # dummy test to substitute for class function\n",
        "      return name\n",
        "\n",
        "# briefest solution uses unique ID generator module\n",
        "# uuid.uuid4() generates unique random ID\n",
        "import uuid\n",
        "def generateName2():\n",
        "    return str(uuid.uuid4())[:6].  \n",
        "\n",
        "\n",
        "for i in range(10):\n",
        "  name = generateName2();\n",
        "  print(name)"
      ],
      "execution_count": null,
      "outputs": [
        {
          "output_type": "stream",
          "text": [
            "808258\n",
            "3a6bac\n",
            "ff21a5\n",
            "b9df7b\n",
            "136bd1\n",
            "a860a4\n",
            "6cf256\n",
            "c7b586\n",
            "188450\n",
            "6c448e\n"
          ],
          "name": "stdout"
        }
      ]
    },
    {
      "cell_type": "code",
      "metadata": {
        "id": "M4Cw6jmqiBnK",
        "colab_type": "code",
        "colab": {
          "base_uri": "https://localhost:8080/",
          "height": 34
        },
        "outputId": "96527d53-2b45-4cf7-ee35-43b8dc008ebf"
      },
      "source": [
        "# 5. Valid Parenthesis\n",
        "\n",
        "def valid_parentheses(string):\n",
        "  n = 0\n",
        "  for ch in string:\n",
        "    if ch == \"(\": n += 1\n",
        "    if ch == \")\": n -= 1\n",
        "    if n < 0:\n",
        "      return False\n",
        "  return n == 0\n",
        "\n",
        "# clever solution\n",
        "# use re.compile() error if unbalanced parentheses\n",
        "\n",
        "import re\n",
        "def valid_parentheses(s):\n",
        "    try:\n",
        "        re.compile(s)\n",
        "    except:\n",
        "        return False\n",
        "    return True\n",
        "\n",
        "\n",
        "#valid_parentheses(\"(())((()())())\") # True\n",
        "valid_parentheses(\"hi(hi)((())\") # False\n",
        "#valid_parentheses(\"hi())(mnj)\") # False"
      ],
      "execution_count": null,
      "outputs": [
        {
          "output_type": "execute_result",
          "data": {
            "text/plain": [
              "False"
            ]
          },
          "metadata": {
            "tags": []
          },
          "execution_count": 35
        }
      ]
    },
    {
      "cell_type": "code",
      "metadata": {
        "id": "mUmpF535e1hf",
        "colab_type": "code",
        "colab": {
          "base_uri": "https://localhost:8080/",
          "height": 1000
        },
        "outputId": "ccd1e0fe-7d8b-4477-aa0b-9639d21a7b63"
      },
      "source": [
        "# 6. Duplicates, Duplicates Everywhere\n",
        "\n",
        "def remove_duplicate_ids(obj):\n",
        "    u=[]\n",
        "    for k,v in sorted(d.items(), key=lambda t: int(t[0]),reverse=True):     # sort dict by numerical key\n",
        "        print(f\"\\nkey = {k},  value = {v}\")\n",
        "        \n",
        "        temp = []\n",
        "        while v[::-1]:\n",
        "          x = v.pop()\n",
        "          print(f\"item = {x}\")\n",
        "          if x not in u:\n",
        "            u.append(x)         # remember letters already used\n",
        "            temp.append(x)      # \n",
        "            print(f\"fresh item, u = {u}\")\n",
        "            print(f\"add to output list, w = {temp}\")\n",
        "        print(f\"v = {v}\")\n",
        "        print(f\"temp = {temp}\")\n",
        "  \n",
        "        while temp:             # copy unique list back into dict\n",
        "          v.append(temp.pop())\n",
        "          v.sort()\n",
        "        print(f\"v at end of loop = {v}\")\n",
        "    return obj\n",
        "\n",
        "a = {\"1\": [\"A\", \"B\", \"C\"],\n",
        "    \"2\": [\"A\", \"B\", \"D\", \"A\"]}\n",
        "b = {\"1\": [\"C\", \"F\", \"G\"],\n",
        "    \"2\": [\"A\", \"B\", \"C\"],\n",
        "    \"3\": [\"A\", \"B\", \"D\"]}\n",
        "c = {\"1\": [\"A\"],\"2\": [\"A\"],\"3\": [\"A\"]}\n",
        "d = {\"432\": [\"A\", \"A\", \"B\", \"D\"],\n",
        "    \"53\": [\"L\", \"G\", \"B\", \"C\"],\n",
        "    \"236\": [\"L\", \"A\", \"X\", \"G\", \"H\", \"X\"],\n",
        "    \"11\": [\"P\", \"R\", \"S\", \"D\"]}\n",
        "res_a = remove_duplicate_ids(d)\n",
        "print(res_a)\n",
        "\n",
        "# answer\n",
        "#res_a = {\n",
        "#    \"1\": [\"C\"],\n",
        "#    \"2\": [\"A\", \"B\", \"D\"]}\n",
        "#res_b = {\n",
        "#    \"1\": [\"F\", \"G\"],\n",
        "#    \"2\": [\"C\"],\n",
        "#    \"3\": [\"A\", \"B\", \"D\"]}\n",
        "#res_c = {\n",
        "#    \"1\": [],\n",
        "#    \"2\": [],\n",
        "#    \"3\": [\"A\"]}\n",
        "#res_d = {\n",
        "#    \"11\": [\"P\", \"R\", \"S\"],\n",
        "#    \"53\": [\"C\"],\n",
        "#    \"236\": [\"L\", \"X\", \"G\", \"H\"],\n",
        "#    \"432\": [\"A\", \"B\", \"D\"]}"
      ],
      "execution_count": null,
      "outputs": [
        {
          "output_type": "stream",
          "text": [
            "\n",
            "key = 432,  value = ['A', 'A', 'B', 'D']\n",
            "item = D\n",
            "fresh item, u = ['D']\n",
            "add to output list, w = ['D']\n",
            "item = B\n",
            "fresh item, u = ['D', 'B']\n",
            "add to output list, w = ['D', 'B']\n",
            "item = A\n",
            "fresh item, u = ['D', 'B', 'A']\n",
            "add to output list, w = ['D', 'B', 'A']\n",
            "item = A\n",
            "v = []\n",
            "temp = ['D', 'B', 'A']\n",
            "v at end of loop = ['A', 'B', 'D']\n",
            "\n",
            "key = 236,  value = ['L', 'A', 'X', 'G', 'H', 'X']\n",
            "item = X\n",
            "fresh item, u = ['D', 'B', 'A', 'X']\n",
            "add to output list, w = ['X']\n",
            "item = H\n",
            "fresh item, u = ['D', 'B', 'A', 'X', 'H']\n",
            "add to output list, w = ['X', 'H']\n",
            "item = G\n",
            "fresh item, u = ['D', 'B', 'A', 'X', 'H', 'G']\n",
            "add to output list, w = ['X', 'H', 'G']\n",
            "item = X\n",
            "item = A\n",
            "item = L\n",
            "fresh item, u = ['D', 'B', 'A', 'X', 'H', 'G', 'L']\n",
            "add to output list, w = ['X', 'H', 'G', 'L']\n",
            "v = []\n",
            "temp = ['X', 'H', 'G', 'L']\n",
            "v at end of loop = ['G', 'H', 'L', 'X']\n",
            "\n",
            "key = 53,  value = ['L', 'G', 'B', 'C']\n",
            "item = C\n",
            "fresh item, u = ['D', 'B', 'A', 'X', 'H', 'G', 'L', 'C']\n",
            "add to output list, w = ['C']\n",
            "item = B\n",
            "item = G\n",
            "item = L\n",
            "v = []\n",
            "temp = ['C']\n",
            "v at end of loop = ['C']\n",
            "\n",
            "key = 11,  value = ['P', 'R', 'S', 'D']\n",
            "item = D\n",
            "item = S\n",
            "fresh item, u = ['D', 'B', 'A', 'X', 'H', 'G', 'L', 'C', 'S']\n",
            "add to output list, w = ['S']\n",
            "item = R\n",
            "fresh item, u = ['D', 'B', 'A', 'X', 'H', 'G', 'L', 'C', 'S', 'R']\n",
            "add to output list, w = ['S', 'R']\n",
            "item = P\n",
            "fresh item, u = ['D', 'B', 'A', 'X', 'H', 'G', 'L', 'C', 'S', 'R', 'P']\n",
            "add to output list, w = ['S', 'R', 'P']\n",
            "v = []\n",
            "temp = ['S', 'R', 'P']\n",
            "v at end of loop = ['P', 'R', 'S']\n",
            "{'432': ['A', 'B', 'D'], '53': ['C'], '236': ['G', 'H', 'L', 'X'], '11': ['P', 'R', 'S']}\n"
          ],
          "name": "stdout"
        }
      ]
    },
    {
      "cell_type": "code",
      "metadata": {
        "id": "G12bGp1PxK4d",
        "colab_type": "code",
        "colab": {
          "base_uri": "https://localhost:8080/",
          "height": 255
        },
        "outputId": "00af769a-4433-40de-bfda-40dd4aeaf1fc"
      },
      "source": [
        "# 6. Duplicates, Duplicates Everywhere\n",
        "def remove_duplicate_ids(obj):\n",
        "    used=[]\n",
        "    r = sorted(obj.items(), key=lambda t: int(t[0]),reverse=True)       # sorted by numerical key value, return listof tuples\n",
        "    for k,v in r:\n",
        "        print(f\"\\nkey = {k},  value = {v}\")\n",
        "        temp=[]\n",
        "        for x in v:\n",
        "          #print(f\"x: {x}\")\n",
        "          if x not in used:\n",
        "            used.append(x)\n",
        "            temp.append(x)\n",
        "            #print(f\"fresh item; u = {used}\")\n",
        "            #print(f\"temp = {temp}\")\n",
        "        v[:] = [i for i in temp]\n",
        "        print(f\"v at end of loop = {v}\")\n",
        "    return dict(reversed(r))\n",
        "\n",
        "d = {\"432\": [\"A\", \"A\", \"B\", \"D\"],\n",
        "    \"53\": [\"L\", \"G\", \"B\", \"C\"],\n",
        "    \"236\": [\"L\", \"A\", \"X\", \"G\", \"H\", \"X\"],\n",
        "    \"11\": [\"P\", \"R\", \"S\", \"D\"]}\n",
        "res_a = remove_duplicate_ids(d)\n",
        "print(res_a)\n",
        "\n",
        "#res_d = {\n",
        "#    \"11\": [\"P\", \"R\", \"S\"],\n",
        "#    \"53\": [\"C\"],\n",
        "#    \"236\": [\"L\", \"X\", \"G\", \"H\"],\n",
        "#    \"432\": [\"A\", \"B\", \"D\"]}"
      ],
      "execution_count": null,
      "outputs": [
        {
          "output_type": "stream",
          "text": [
            "<class 'list'>\n",
            "\n",
            "key = 432,  value = ['A', 'A', 'B', 'D']\n",
            "v at end of loop = ['A', 'B', 'D']\n",
            "\n",
            "key = 236,  value = ['L', 'A', 'X', 'G', 'H', 'X']\n",
            "v at end of loop = ['L', 'X', 'G', 'H']\n",
            "\n",
            "key = 53,  value = ['L', 'G', 'B', 'C']\n",
            "v at end of loop = ['C']\n",
            "\n",
            "key = 11,  value = ['P', 'R', 'S', 'D']\n",
            "v at end of loop = ['P', 'R', 'S']\n",
            "{'11': ['P', 'R', 'S'], '53': ['C'], '236': ['L', 'X', 'G', 'H'], '432': ['A', 'B', 'D']}\n"
          ],
          "name": "stdout"
        }
      ]
    },
    {
      "cell_type": "code",
      "metadata": {
        "id": "q2aRUCysVIYN",
        "colab_type": "code",
        "colab": {
          "base_uri": "https://localhost:8080/",
          "height": 136
        },
        "outputId": "62afc8ca-db2a-477b-d91e-d8c1c8d88a5f"
      },
      "source": [
        "# practice\n",
        "\n",
        "# remove duplicates from list while maintaining original order\n",
        "l = ['a','b','c','a']\n",
        "print(l)\n",
        "\n",
        "# 1: for loop\n",
        "x=[]\n",
        "for i in l:\n",
        "  if i not in x:\n",
        "    x.append(i)\n",
        "\n",
        "# 2: list comprehension\n",
        "[x.append(i) for i in l if i not in x]\n",
        "\n",
        "# 3: sorted list\n",
        "x = list(set(l))\n",
        "x.sort(key=l.index)\n",
        "\n",
        "# 4: OrderedDict\n",
        "from collections import OrderedDict\n",
        "x = list(OrderedDict.fromkeys(l))\n",
        "\n",
        "print(x)\n",
        "print()\n",
        "\n",
        "# reverse order of dict by integer value of key\n",
        "for k,v in sorted(d.items(), key=lambda t: int(t[0]),reverse=True):\n",
        "  print(k,v)"
      ],
      "execution_count": null,
      "outputs": [
        {
          "output_type": "stream",
          "text": [
            "['a', 'b', 'c', 'a']\n",
            "['a', 'b', 'c']\n",
            "\n",
            "432 ['A', 'B', 'D']\n",
            "236 ['G', 'H', 'L', 'X']\n",
            "53 ['C']\n",
            "11 ['P', 'R', 'S']\n"
          ],
          "name": "stdout"
        }
      ]
    },
    {
      "cell_type": "code",
      "metadata": {
        "id": "671Ik1bUstGs",
        "colab_type": "code",
        "colab": {
          "base_uri": "https://localhost:8080/",
          "height": 34
        },
        "outputId": "42b24274-5b88-4a00-9d6f-9d90d49c0bbf"
      },
      "source": [
        "# 5. Josephus Survivor\n",
        "# with rucursion (there is a limit to recursion depth)\n",
        "def josephus_survivor(n,k):\n",
        "      if (n == 1): \n",
        "          return 1\n",
        "      else:\n",
        "          return (josephus(n - 1, k) + k-1) % n + 1\n",
        "\n",
        "#josephus_survivor(7,3)        # 4\n",
        "#josephus_survivor(11,19)      # 10\n",
        "#josephus_survivor(1,300)      # 1\n",
        "#josephus_survivor(14,2)       # 13\n",
        "josephus_survivor(100,1)       # 100"
      ],
      "execution_count": null,
      "outputs": [
        {
          "output_type": "execute_result",
          "data": {
            "text/plain": [
              "100"
            ]
          },
          "metadata": {
            "tags": []
          },
          "execution_count": 22
        }
      ]
    },
    {
      "cell_type": "code",
      "metadata": {
        "id": "yQQur8ZP2PJK",
        "colab_type": "code",
        "colab": {
          "base_uri": "https://localhost:8080/",
          "height": 51
        },
        "outputId": "7c61a1fd-0214-430e-d188-0905803e49cc"
      },
      "source": [
        "# with functools reduce\n",
        "# first two items used by reduce are first two elements produced by iterable\n",
        "\n",
        "from functools import reduce\n",
        "\n",
        "def josephus_survivor(n, k):\n",
        "    print(f\"range(0,n+1): {[i for i in range(0,n+1)]}\")\n",
        "    \n",
        "    return reduce(lambda x, y: (x+k)%y, range(0, n+1)) + 1\n",
        "\n",
        "josephus_survivor(14,2)"
      ],
      "execution_count": null,
      "outputs": [
        {
          "output_type": "stream",
          "text": [
            "range(0,n+1): [0, 1, 2, 3, 4, 5, 6, 7, 8, 9, 10, 11, 12, 13, 14]\n"
          ],
          "name": "stdout"
        },
        {
          "output_type": "execute_result",
          "data": {
            "text/plain": [
              "13"
            ]
          },
          "metadata": {
            "tags": []
          },
          "execution_count": 69
        }
      ]
    },
    {
      "cell_type": "code",
      "metadata": {
        "id": "3XUi4sCzigfi",
        "colab_type": "code",
        "colab": {
          "base_uri": "https://localhost:8080/",
          "height": 510
        },
        "outputId": "2dd094aa-624a-40ce-ad00-13a7cffa23ae"
      },
      "source": [
        "# deleting items from list\n",
        "\n",
        "def josephus_survivor(n, k):\n",
        "    ls = [x for x in range(1,n+1)]\n",
        "    print(f\"start list: {ls}\")\n",
        "    incr = k - 1                  # less one due to hole from killing previous\n",
        "    print(f\"incr: {incr}\")\n",
        "    i = incr % len(ls)            # first killing point (zero indexing)\n",
        "    while len(ls) > 1:\n",
        "        print(f\"i = {i}\")\n",
        "        print(ls.pop(i), ls)      # kill prisoner at i\n",
        "        i = (i + incr) % len(ls)  # wrap around list if required\n",
        "    return ls[0]\n",
        "\n",
        "\n",
        "josephus_survivor(14,2)"
      ],
      "execution_count": null,
      "outputs": [
        {
          "output_type": "stream",
          "text": [
            "start list: [1, 2, 3, 4, 5, 6, 7, 8, 9, 10, 11, 12, 13, 14]\n",
            "incr: 1\n",
            "i = 1\n",
            "2 [1, 3, 4, 5, 6, 7, 8, 9, 10, 11, 12, 13, 14]\n",
            "i = 2\n",
            "4 [1, 3, 5, 6, 7, 8, 9, 10, 11, 12, 13, 14]\n",
            "i = 3\n",
            "6 [1, 3, 5, 7, 8, 9, 10, 11, 12, 13, 14]\n",
            "i = 4\n",
            "8 [1, 3, 5, 7, 9, 10, 11, 12, 13, 14]\n",
            "i = 5\n",
            "10 [1, 3, 5, 7, 9, 11, 12, 13, 14]\n",
            "i = 6\n",
            "12 [1, 3, 5, 7, 9, 11, 13, 14]\n",
            "i = 7\n",
            "14 [1, 3, 5, 7, 9, 11, 13]\n",
            "i = 1\n",
            "3 [1, 5, 7, 9, 11, 13]\n",
            "i = 2\n",
            "7 [1, 5, 9, 11, 13]\n",
            "i = 3\n",
            "11 [1, 5, 9, 13]\n",
            "i = 0\n",
            "1 [5, 9, 13]\n",
            "i = 1\n",
            "9 [5, 13]\n",
            "i = 0\n",
            "5 [13]\n"
          ],
          "name": "stdout"
        },
        {
          "output_type": "execute_result",
          "data": {
            "text/plain": [
              "13"
            ]
          },
          "metadata": {
            "tags": []
          },
          "execution_count": 44
        }
      ]
    },
    {
      "cell_type": "code",
      "metadata": {
        "id": "djB6hJ3I7JxC",
        "colab_type": "code",
        "colab": {
          "base_uri": "https://localhost:8080/",
          "height": 578
        },
        "outputId": "a795ff44-dbd0-4c0b-a4fe-e9fb01bbf16a"
      },
      "source": [
        "# 7. TV Remote\n",
        "# count number of steps to print word on TV remote keyboard\n",
        "\n",
        "\n",
        "def tv_remote(word):\n",
        "  # define data structure to represent keymap\n",
        "  characters = 'abcde123fghij456klmno789pqrst.@0uvwxyz_/'\n",
        "\n",
        "  width = 8             # keypad width\n",
        "  c_x = 0               # index of starting location\n",
        "  c_y = 0\n",
        "  total_steps = 0       # running sum of steps\n",
        "\n",
        "  # loop through 'word' string\n",
        "  for w in word:\n",
        "    print(f\"w: {w}\")\n",
        "    print(f\"cursor: {c_x, c_y}\")\n",
        "\n",
        "    # co-ords of w\n",
        "    w_index = characters.find(w)\n",
        "    w_x = (w_index % width)       # column number\n",
        "    w_y = (w_index // width)      # row number\n",
        "    print(f\"index: {w_index}\")\n",
        "    print(f\"w co-ords: {w_x, w_y}\")\n",
        "\n",
        "    # steps from cursor\n",
        "    w_x_steps = abs(w_x - c_x)\n",
        "    w_y_steps = abs(w_y - c_y)\n",
        "    w_steps = w_x_steps + w_y_steps + 1           # extra for 'OK' button\n",
        "    print(f\"difference: {w_x_steps, w_y_steps}\")\n",
        "    print(f\"w_steps: {w_steps}\")\n",
        "\n",
        "    # update cursor location\n",
        "    c_x = w_x\n",
        "    c_y = w_y\n",
        "\n",
        "    # increment running total\n",
        "    total_steps += w_steps\n",
        "    print(f\"total_steps: {total_steps}\\n\")\n",
        "    \n",
        "  return total_steps\n",
        "\n",
        "#tv_remote(\"codewars\") # 36\n",
        "#tv_remote(\"solution\") # 33\n",
        "tv_remote(\"does\")     # 16"
      ],
      "execution_count": null,
      "outputs": [
        {
          "output_type": "stream",
          "text": [
            "w: d\n",
            "cursor: (0, 0)\n",
            "index: 3\n",
            "w co-ords: (3, 0)\n",
            "difference: (3, 0)\n",
            "w_steps: 4\n",
            "total_steps: 4\n",
            "\n",
            "w: o\n",
            "cursor: (3, 0)\n",
            "index: 20\n",
            "w co-ords: (4, 2)\n",
            "difference: (1, 2)\n",
            "w_steps: 4\n",
            "total_steps: 8\n",
            "\n",
            "w: e\n",
            "cursor: (4, 2)\n",
            "index: 4\n",
            "w co-ords: (4, 0)\n",
            "difference: (0, 2)\n",
            "w_steps: 3\n",
            "total_steps: 11\n",
            "\n",
            "w: s\n",
            "cursor: (4, 0)\n",
            "index: 27\n",
            "w co-ords: (3, 3)\n",
            "difference: (1, 3)\n",
            "w_steps: 5\n",
            "total_steps: 16\n",
            "\n"
          ],
          "name": "stdout"
        },
        {
          "output_type": "execute_result",
          "data": {
            "text/plain": [
              "16"
            ]
          },
          "metadata": {
            "tags": []
          },
          "execution_count": 18
        }
      ]
    },
    {
      "cell_type": "code",
      "metadata": {
        "id": "mG2eX6fukH0L",
        "colab_type": "code",
        "colab": {
          "base_uri": "https://localhost:8080/",
          "height": 207
        },
        "outputId": "5e75c530-50f5-4c39-d33e-ea2aefee4129"
      },
      "source": [
        "# clever solution\n",
        "# use div & mod to determine co-ordinates from string\n",
        "# coordinate map created using dict comprehension\n",
        "# zip offset words to get current & previous characters as tuple\n",
        "# manhatten function to measure grid distance of tuple\n",
        "# add len(word) to account for 'OK' button every character\n",
        "\n",
        "def manhattan(s,t):\n",
        "    k = sum(abs(y-x) for x,y in zip(s,t))\n",
        "    return k\n",
        "\n",
        "def tv_remote(word):\n",
        "    KEYBOARD = 'abcde123fghij456klmno789pqrst.@0uvwxyz_/'\n",
        "    MAP      = {c: (i//8, i%8) for i,c in enumerate(KEYBOARD)}\n",
        "    print(MAP)\n",
        "\n",
        "    for prev,curr in zip('a'+word, word):\n",
        "      print(prev, curr, (MAP[prev], MAP[curr]))\n",
        "\n",
        "    total_length = len(word) + sum(manhattan(MAP[prev], MAP[curr]) for prev,curr in zip('a'+word, word))\n",
        "    return total_length\n",
        "\n",
        "tv_remote(\"codewars\") # 36"
      ],
      "execution_count": 49,
      "outputs": [
        {
          "output_type": "stream",
          "text": [
            "{'a': (0, 0), 'b': (0, 1), 'c': (0, 2), 'd': (0, 3), 'e': (0, 4), '1': (0, 5), '2': (0, 6), '3': (0, 7), 'f': (1, 0), 'g': (1, 1), 'h': (1, 2), 'i': (1, 3), 'j': (1, 4), '4': (1, 5), '5': (1, 6), '6': (1, 7), 'k': (2, 0), 'l': (2, 1), 'm': (2, 2), 'n': (2, 3), 'o': (2, 4), '7': (2, 5), '8': (2, 6), '9': (2, 7), 'p': (3, 0), 'q': (3, 1), 'r': (3, 2), 's': (3, 3), 't': (3, 4), '.': (3, 5), '@': (3, 6), '0': (3, 7), 'u': (4, 0), 'v': (4, 1), 'w': (4, 2), 'x': (4, 3), 'y': (4, 4), 'z': (4, 5), '_': (4, 6), '/': (4, 7)}\n",
            "a c ((0, 0), (0, 2))\n",
            "c o ((0, 2), (2, 4))\n",
            "o d ((2, 4), (0, 3))\n",
            "d e ((0, 3), (0, 4))\n",
            "e w ((0, 4), (4, 2))\n",
            "w a ((4, 2), (0, 0))\n",
            "a r ((0, 0), (3, 2))\n",
            "r s ((3, 2), (3, 3))\n"
          ],
          "name": "stdout"
        },
        {
          "output_type": "execute_result",
          "data": {
            "text/plain": [
              "36"
            ]
          },
          "metadata": {
            "tags": []
          },
          "execution_count": 49
        }
      ]
    },
    {
      "cell_type": "code",
      "metadata": {
        "id": "gc_21aggxrVs",
        "colab_type": "code",
        "colab": {}
      },
      "source": [
        "# 6. Maze Runners\n",
        "\n",
        "def find_it(m,v):\n",
        "  for i in range(len(maze)):\n",
        "    for j in range(len(maze)):\n",
        "      if m[i][j] == v:\n",
        "        return (i,j)\n",
        "\n",
        "\n",
        "def maze_runner(maze, directions):\n",
        "    dir_map = {\"N\":(-1,0),\"S\":(1,0),\"E\":(0,1),\"W\":(0,-1)}\n",
        "    c = find_it(maze,2)\n",
        "    for dir in directions:\n",
        "        step = dir_map.get(dir)\n",
        "        c = tuple([x+y for x,y in zip(c,step)])\n",
        "        if any(0 > e or e >= len(maze[0]) for e in c):\n",
        "            return \"Dead\"\n",
        "        val = maze[c[0]][c[1]]\n",
        "        if val == 1:\n",
        "            return \"Dead\"\n",
        "        if val == 3:\n",
        "            return \"Finish\"\n",
        "        if val == 0:\n",
        "            continue\n",
        "    return \"Lost\"\n",
        "\n",
        "\n",
        "# test\n",
        "maze = [[1,1,1,1,1,1,1],\n",
        "        [1,0,0,0,0,0,3],\n",
        "        [1,0,1,0,1,0,1],\n",
        "        [0,0,1,0,0,0,1],\n",
        "        [1,0,1,0,1,0,1],\n",
        "        [1,0,0,0,0,0,1],\n",
        "        [1,2,1,0,1,0,1]]\n",
        "#maze_runner(maze,[\"N\",\"N\",\"N\",\"N\",\"N\",\"E\",\"E\",\"E\",\"E\",\"E\"]) # \"Finish\"\n",
        "maze_runner(maze,[\"N\",\"N\",\"N\",\"W\",\"W\"])                     # \"Dead\"\n",
        "#maze_runner(maze,[\"N\",\"N\",\"N\",\"N\",\"N\",\"E\",\"E\",\"S\",\"S\",\"S\",\"S\",\"S\",\"S\"]) # \"Dead\"\n",
        "#maze_runner(maze,[\"N\",\"E\",\"E\",\"E\",\"E\"])                     # \"Lost\""
      ],
      "execution_count": null,
      "outputs": []
    },
    {
      "cell_type": "code",
      "metadata": {
        "id": "V_Mk35q0r12C",
        "colab_type": "code",
        "colab": {
          "base_uri": "https://localhost:8080/",
          "height": 34
        },
        "outputId": "f6a8ad99-668e-4b89-85fa-4793d7be5434"
      },
      "source": [
        "# 5. Not Very Secure\n",
        "# at least one character    +\n",
        "# no white space            ^\\s  or [^ \\t\\n\\r\\f\\v]\n",
        "# upper/lower case latin    \\w   or [a-zA-Z]\n",
        "# numbers                   \\d   or [0-9]\n",
        "\n",
        "import re\n",
        "\n",
        "def alphanumeric(password):\n",
        "    a = re.compile(\"^[0-9a-zA-Z]+$\")\n",
        "    return bool(re.match(a,password))\n",
        "\n",
        "x = \"PassW0rd.  \"\n",
        "alphanumeric(x)"
      ],
      "execution_count": 122,
      "outputs": [
        {
          "output_type": "execute_result",
          "data": {
            "text/plain": [
              "False"
            ]
          },
          "metadata": {
            "tags": []
          },
          "execution_count": 122
        }
      ]
    },
    {
      "cell_type": "code",
      "metadata": {
        "id": "0y_nyuxt20Sd",
        "colab_type": "code",
        "colab": {}
      },
      "source": [
        ""
      ],
      "execution_count": null,
      "outputs": []
    }
  ]
}