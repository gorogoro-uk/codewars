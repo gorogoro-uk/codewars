{
  "nbformat": 4,
  "nbformat_minor": 0,
  "metadata": {
    "colab": {
      "name": "Codewars.ipynb",
      "provenance": [],
      "collapsed_sections": [],
      "authorship_tag": "ABX9TyOnat90teqjaJRFAoayN+mv",
      "include_colab_link": true
    },
    "kernelspec": {
      "name": "python3",
      "display_name": "Python 3"
    }
  },
  "cells": [
    {
      "cell_type": "markdown",
      "metadata": {
        "id": "view-in-github",
        "colab_type": "text"
      },
      "source": [
        "<a href=\"https://colab.research.google.com/github/gorogoro-uk/codewars/blob/master/Codewars.ipynb\" target=\"_parent\"><img src=\"https://colab.research.google.com/assets/colab-badge.svg\" alt=\"Open In Colab\"/></a>"
      ]
    },
    {
      "cell_type": "markdown",
      "metadata": {
        "id": "oycl3Hy8B2HN",
        "colab_type": "text"
      },
      "source": [
        "### Codewars 8 kyu"
      ]
    },
    {
      "cell_type": "code",
      "metadata": {
        "id": "cNRpVu-jNYro",
        "colab_type": "code",
        "colab": {}
      },
      "source": [
        "# 8. Take the Derivative\n",
        "\n",
        "def derive(coefficient, exponent): \n",
        "    return print('\"'+str(coefficient*exponent)+\"x^\"+str(exponent - 1)+'\"')\n",
        "\n",
        "derive(7,8)\n",
        "derive(5,9)"
      ],
      "execution_count": null,
      "outputs": []
    }
  ]
}