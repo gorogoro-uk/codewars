{
  "nbformat": 4,
  "nbformat_minor": 0,
  "metadata": {
    "colab": {
      "name": "Codewars_6.ipynb",
      "provenance": [],
      "authorship_tag": "ABX9TyOwMGQlHqTXW7esaba+9mHc",
      "include_colab_link": true
    },
    "kernelspec": {
      "name": "python3",
      "display_name": "Python 3"
    }
  },
  "cells": [
    {
      "cell_type": "markdown",
      "metadata": {
        "id": "view-in-github",
        "colab_type": "text"
      },
      "source": [
        "<a href=\"https://colab.research.google.com/github/gorogoro-uk/codewars/blob/master/Codewars_6.ipynb\" target=\"_parent\"><img src=\"https://colab.research.google.com/assets/colab-badge.svg\" alt=\"Open In Colab\"/></a>"
      ]
    },
    {
      "cell_type": "markdown",
      "metadata": {
        "id": "mKTWtTBWbn3E",
        "colab_type": "text"
      },
      "source": [
        "### Codewars 6 kyu"
      ]
    },
    {
      "cell_type": "code",
      "metadata": {
        "id": "c-fVUazlbldK",
        "colab_type": "code",
        "colab": {}
      },
      "source": [
        "# 6: CamelCase\n",
        "from re import sub\n",
        "\n",
        "\n",
        "def to_camel_case(text):\n",
        "    if len(text) == 0:\n",
        "      return\n",
        "    return text[0] + sub(r\"(_|-)+\",\" \",text).title().replace(\" \",\"\")[1:]\n",
        "    \n",
        "def to_camel_case2(s):\n",
        "    return s[0] + s.title().translate(None, \"-_\")[1:] if s else s\n",
        "\n",
        "\n",
        "# test \n",
        "a = \"Cat_Dog\"\n",
        "b = \"python_is_the_best-language!\"\n",
        "c = \"\"\n",
        "d = \"f\"\n",
        "e = \"K\"\n",
        "f = \"_w_\"\n",
        "\n",
        "to_camel_case(c)"
      ],
      "execution_count": null,
      "outputs": []
    },
    {
      "cell_type": "code",
      "metadata": {
        "id": "ELfEHkRSbt2U",
        "colab_type": "code",
        "colab": {}
      },
      "source": [
        "# 6. New Cashier Does Not Know About Space or Shift\n",
        "\n",
        "menu = ['Burger','Fries','Chicken','Pizza','Sandwich', 'Onionrings', 'Milkshake', 'Coke']\n",
        "\n",
        "def get_order(order):\n",
        "  x = \"\"\n",
        "  for i, item in enumerate(menu):\n",
        "    n = order.count(str.lower(item))\n",
        "    x = x + \"\".join((item+' ') * n)\n",
        "  return str.strip(x)\n",
        "\n",
        "# test: answer \"Burger Fries Fries Chicken Pizza Sandwich Milkshake Coke\"\n",
        "get_order(\"pizzachickenfriesburgercokemilkshakefriessandwich\")"
      ],
      "execution_count": null,
      "outputs": []
    },
    {
      "cell_type": "code",
      "metadata": {
        "id": "XnoyuSZ7bt_1",
        "colab_type": "code",
        "colab": {}
      },
      "source": [
        "MENU = [\"Burger\", \"Fries\", \"Chicken\", \"Pizza\", \"Sandwich\", \"Onionrings\", \"Milkshake\", \"Coke\"]\n",
        "\n",
        "#  use list to store words\n",
        "def get_order(order):\n",
        "    result = []\n",
        "    for item in MENU:\n",
        "        result.extend([item for _ in range(order.count(item.lower()))])\n",
        "    return \" \".join(result)\n",
        "\n",
        "get_order(\"pizzachickenfriesburgercokemilkshakefriessandwich\")  "
      ],
      "execution_count": null,
      "outputs": []
    },
    {
      "cell_type": "code",
      "metadata": {
        "id": "cbbiY6bmbuIk",
        "colab_type": "code",
        "colab": {}
      },
      "source": [
        "#  6. dubstep\n",
        "\n",
        "def song_decoder(song):\n",
        "    return ' '.join(song.replace('WUB',' ').split())\n",
        "\n",
        "#  test: answer \"A B C\", \"heading or trailing spaces should be removed\"\n",
        "song_decoder(\"WUBAWUBBWUBCWUB\")"
      ],
      "execution_count": null,
      "outputs": []
    },
    {
      "cell_type": "code",
      "metadata": {
        "id": "lGuZUl0BbuRf",
        "colab_type": "code",
        "colab": {}
      },
      "source": [
        "# 6. persistent bugger\n",
        "\n",
        "def persistence(n):\n",
        "    prod = n\n",
        "    i = 0\n",
        "    while prod > 9:                 # test value\n",
        "      i += 1                        # increment times counter\n",
        "      digits = list(str(prod))      # separate digits\n",
        "      prod = 1\n",
        "      for digit in digits:    \n",
        "        prod = prod * int(digit)    # mulitply digits together\n",
        "    return i\n",
        "\n",
        "persistence(39)      # 3\n",
        "#persistence(4)      # 0\n",
        "#persistence2(999)    # 4 "
      ],
      "execution_count": null,
      "outputs": []
    },
    {
      "cell_type": "code",
      "metadata": {
        "id": "LdZi0lk9b4Et",
        "colab_type": "code",
        "colab": {}
      },
      "source": [
        "# persistnet bugger: best answer\n",
        "import operator\n",
        "from functools import reduce\n",
        "def persistence2(n):\n",
        "    i = 0\n",
        "    while n >= 10:\n",
        "        [print(\"digit: \",int(x)) for x in str(n)]\n",
        "        n = reduce(operator.mul,[int(x) for x in str(n)],1)\n",
        "        print(\"n:  \",n)\n",
        "        i += 1\n",
        "        print(\"i at end:  \",i)\n",
        "    return i\n",
        "\n",
        "persistence2(396)      # 3\n",
        "#persistence2(4)      # 0\n",
        "#persistence2(999)    # 4 "
      ],
      "execution_count": null,
      "outputs": []
    },
    {
      "cell_type": "code",
      "metadata": {
        "id": "cZBaHhRSb4IC",
        "colab_type": "code",
        "colab": {}
      },
      "source": [
        "# 6. Image Host Filename Generator\n",
        "import random\n",
        "import string\n",
        "\n",
        "def generateName():\n",
        "    while True:\n",
        "      name = \"\".join(random.choices(string.ascii_letters,k=6))\n",
        "      if name.:\n",
        "        return name\n",
        "\n",
        "\n",
        "for i in range(10):\n",
        "  name = generateName();\n",
        "  print(name)"
      ],
      "execution_count": null,
      "outputs": []
    },
    {
      "cell_type": "code",
      "metadata": {
        "id": "U-0KzDHeb4Lj",
        "colab_type": "code",
        "colab": {}
      },
      "source": [
        "# 6. Image Host Filename Generator\n",
        "import random\n",
        "import string\n",
        "\n",
        "def generateName():\n",
        "  while True:\n",
        "    name = \"\".join(random.choices(string.ascii_letters,k=6))\n",
        "    print(name)\n",
        "    if name[0] == 'A':  # dummy test to substitute for class function\n",
        "      return name\n",
        "\n",
        "# briefest solution uses unique ID generator module\n",
        "# uuid.uuid4() generates unique random ID\n",
        "import uuid\n",
        "def generateName2():\n",
        "    return str(uuid.uuid4())[:6].  \n",
        "\n",
        "\n",
        "for i in range(10):\n",
        "  name = generateName2();\n",
        "  print(name)"
      ],
      "execution_count": null,
      "outputs": []
    },
    {
      "cell_type": "code",
      "metadata": {
        "id": "5MbMhuFdcJip",
        "colab_type": "code",
        "colab": {}
      },
      "source": [
        "# 6. Duplicates, Duplicates Everywhere\n",
        "\n",
        "def remove_duplicate_ids(obj):\n",
        "    u=[]\n",
        "    for k,v in sorted(d.items(), key=lambda t: int(t[0]),reverse=True):     # sort dict by numerical key\n",
        "        print(f\"\\nkey = {k},  value = {v}\")\n",
        "        \n",
        "        temp = []\n",
        "        while v[::-1]:\n",
        "          x = v.pop()\n",
        "          print(f\"item = {x}\")\n",
        "          if x not in u:\n",
        "            u.append(x)         # remember letters already used\n",
        "            temp.append(x)      # \n",
        "            print(f\"fresh item, u = {u}\")\n",
        "            print(f\"add to output list, w = {temp}\")\n",
        "        print(f\"v = {v}\")\n",
        "        print(f\"temp = {temp}\")\n",
        "  \n",
        "        while temp:             # copy unique list back into dict\n",
        "          v.append(temp.pop())\n",
        "          v.sort()\n",
        "        print(f\"v at end of loop = {v}\")\n",
        "    return obj\n",
        "\n",
        "a = {\"1\": [\"A\", \"B\", \"C\"],\n",
        "    \"2\": [\"A\", \"B\", \"D\", \"A\"]}\n",
        "b = {\"1\": [\"C\", \"F\", \"G\"],\n",
        "    \"2\": [\"A\", \"B\", \"C\"],\n",
        "    \"3\": [\"A\", \"B\", \"D\"]}\n",
        "c = {\"1\": [\"A\"],\"2\": [\"A\"],\"3\": [\"A\"]}\n",
        "d = {\"432\": [\"A\", \"A\", \"B\", \"D\"],\n",
        "    \"53\": [\"L\", \"G\", \"B\", \"C\"],\n",
        "    \"236\": [\"L\", \"A\", \"X\", \"G\", \"H\", \"X\"],\n",
        "    \"11\": [\"P\", \"R\", \"S\", \"D\"]}\n",
        "res_a = remove_duplicate_ids(d)\n",
        "print(res_a)\n",
        "\n",
        "# answer\n",
        "#res_a = {\n",
        "#    \"1\": [\"C\"],\n",
        "#    \"2\": [\"A\", \"B\", \"D\"]}\n",
        "#res_b = {\n",
        "#    \"1\": [\"F\", \"G\"],\n",
        "#    \"2\": [\"C\"],\n",
        "#    \"3\": [\"A\", \"B\", \"D\"]}\n",
        "#res_c = {\n",
        "#    \"1\": [],\n",
        "#    \"2\": [],\n",
        "#    \"3\": [\"A\"]}\n",
        "#res_d = {\n",
        "#    \"11\": [\"P\", \"R\", \"S\"],\n",
        "#    \"53\": [\"C\"],\n",
        "#    \"236\": [\"L\", \"X\", \"G\", \"H\"],\n",
        "#    \"432\": [\"A\", \"B\", \"D\"]}"
      ],
      "execution_count": null,
      "outputs": []
    },
    {
      "cell_type": "code",
      "metadata": {
        "id": "B6yVtSxjcJql",
        "colab_type": "code",
        "colab": {}
      },
      "source": [
        "# 6. Duplicates, Duplicates Everywhere\n",
        "def remove_duplicate_ids(obj):\n",
        "    used=[]\n",
        "    r = sorted(obj.items(), key=lambda t: int(t[0]),reverse=True)       # sorted by numerical key value, return listof tuples\n",
        "    for k,v in r:\n",
        "        print(f\"\\nkey = {k},  value = {v}\")\n",
        "        temp=[]\n",
        "        for x in v:\n",
        "          #print(f\"x: {x}\")\n",
        "          if x not in used:\n",
        "            used.append(x)\n",
        "            temp.append(x)\n",
        "            #print(f\"fresh item; u = {used}\")\n",
        "            #print(f\"temp = {temp}\")\n",
        "        v[:] = [i for i in temp]\n",
        "        print(f\"v at end of loop = {v}\")\n",
        "    return dict(reversed(r))\n",
        "\n",
        "d = {\"432\": [\"A\", \"A\", \"B\", \"D\"],\n",
        "    \"53\": [\"L\", \"G\", \"B\", \"C\"],\n",
        "    \"236\": [\"L\", \"A\", \"X\", \"G\", \"H\", \"X\"],\n",
        "    \"11\": [\"P\", \"R\", \"S\", \"D\"]}\n",
        "res_a = remove_duplicate_ids(d)\n",
        "print(res_a)\n",
        "\n",
        "#res_d = {\n",
        "#    \"11\": [\"P\", \"R\", \"S\"],\n",
        "#    \"53\": [\"C\"],\n",
        "#    \"236\": [\"L\", \"X\", \"G\", \"H\"],\n",
        "#    \"432\": [\"A\", \"B\", \"D\"]}"
      ],
      "execution_count": null,
      "outputs": []
    },
    {
      "cell_type": "code",
      "metadata": {
        "id": "es46MWzWcJyq",
        "colab_type": "code",
        "colab": {}
      },
      "source": [
        "# practice\n",
        "\n",
        "# remove duplicates from list while maintaining original order\n",
        "l = ['a','b','c','a']\n",
        "print(l)\n",
        "\n",
        "# 1: for loop\n",
        "x=[]\n",
        "for i in l:\n",
        "  if i not in x:\n",
        "    x.append(i)\n",
        "\n",
        "# 2: list comprehension\n",
        "[x.append(i) for i in l if i not in x]\n",
        "\n",
        "# 3: sorted list\n",
        "x = list(set(l))\n",
        "x.sort(key=l.index)\n",
        "\n",
        "# 4: OrderedDict\n",
        "from collections import OrderedDict\n",
        "x = list(OrderedDict.fromkeys(l))\n",
        "\n",
        "print(x)\n",
        "print()\n",
        "\n",
        "# reverse order of dict by integer value of key\n",
        "for k,v in sorted(d.items(), key=lambda t: int(t[0]),reverse=True):\n",
        "  print(k,v)"
      ],
      "execution_count": null,
      "outputs": []
    },
    {
      "cell_type": "code",
      "metadata": {
        "id": "ZjFOG-STcJ8A",
        "colab_type": "code",
        "colab": {}
      },
      "source": [
        "# 6. Maze Runners\n",
        "\n",
        "def find_it(m,v):\n",
        "  for i in range(len(maze)):\n",
        "    for j in range(len(maze)):\n",
        "      if m[i][j] == v:\n",
        "        return (i,j)\n",
        "\n",
        "\n",
        "def maze_runner(maze, directions):\n",
        "    dir_map = {\"N\":(-1,0),\"S\":(1,0),\"E\":(0,1),\"W\":(0,-1)}\n",
        "    c = find_it(maze,2)\n",
        "    for dir in directions:\n",
        "        step = dir_map.get(dir)\n",
        "        c = tuple([x+y for x,y in zip(c,step)])\n",
        "        if any(0 > e or e >= len(maze[0]) for e in c):\n",
        "            return \"Dead\"\n",
        "        val = maze[c[0]][c[1]]\n",
        "        if val == 1:\n",
        "            return \"Dead\"\n",
        "        if val == 3:\n",
        "            return \"Finish\"\n",
        "        if val == 0:\n",
        "            continue\n",
        "    return \"Lost\"\n",
        "\n",
        "\n",
        "# test\n",
        "maze = [[1,1,1,1,1,1,1],\n",
        "        [1,0,0,0,0,0,3],\n",
        "        [1,0,1,0,1,0,1],\n",
        "        [0,0,1,0,0,0,1],\n",
        "        [1,0,1,0,1,0,1],\n",
        "        [1,0,0,0,0,0,1],\n",
        "        [1,2,1,0,1,0,1]]\n",
        "#maze_runner(maze,[\"N\",\"N\",\"N\",\"N\",\"N\",\"E\",\"E\",\"E\",\"E\",\"E\"]) # \"Finish\"\n",
        "maze_runner(maze,[\"N\",\"N\",\"N\",\"W\",\"W\"])                     # \"Dead\"\n",
        "#maze_runner(maze,[\"N\",\"N\",\"N\",\"N\",\"N\",\"E\",\"E\",\"S\",\"S\",\"S\",\"S\",\"S\",\"S\"]) # \"Dead\"\n",
        "#maze_runner(maze,[\"N\",\"E\",\"E\",\"E\",\"E\"])                     # \"Lost\""
      ],
      "execution_count": null,
      "outputs": []
    },
    {
      "cell_type": "code",
      "metadata": {
        "id": "aY3vKboxcTL0",
        "colab_type": "code",
        "colab": {}
      },
      "source": [
        "# 6. Multiples of 3 or 5\n",
        "\n",
        "def solution(n):\n",
        "  return [x for x in range(n) if (x % 3 == 0 or x % 5 == 0)]\n",
        "\n",
        "solution(10) # 23"
      ],
      "execution_count": null,
      "outputs": []
    },
    {
      "cell_type": "code",
      "metadata": {
        "id": "jK9LQuSacTWU",
        "colab_type": "code",
        "colab": {}
      },
      "source": [
        "# 6. Who likes it?\n",
        "\n",
        "def likes(names):\n",
        "  l = len(names)\n",
        "  if l == 0:\n",
        "    return 'no one likes this'\n",
        "  if l == 1:\n",
        "    return names[0]+' likes this'\n",
        "  if l == 2:\n",
        "    return names[0]+' and '+names[1]+' like this'\n",
        "  if l == 3:\n",
        "    return names[0]+', '+names[1]+' and '+names[2]+' like this'\n",
        "  if l > 3:\n",
        "    return names[0]+', '+names[1]+' and '+str(l-2)+' others like this'\n",
        "\n",
        "#likes([])                               # 'no one likes this'\n",
        "#likes(['Peter'])                        # 'Peter likes this'\n",
        "#likes(['Jacob', 'Alex'])                # 'Jacob and Alex like this'\n",
        "#likes(['Max', 'John', 'Mark'])          # 'Max, John and Mark like this'\n",
        "#likes(['Alex', 'Jacob', 'Mark', 'Max']) # 'Alex, Jacob and 2 others like this'\n",
        "likes(['Michinomiya', 'Theodore', 'Robert', 'Benito', 'Winston', 'Vladimir', 'Adolf']) # 'Alex, Jacob and 5 others like this'"
      ],
      "execution_count": null,
      "outputs": []
    },
    {
      "cell_type": "code",
      "metadata": {
        "id": "spgwjQRKcTgi",
        "colab_type": "code",
        "colab": {}
      },
      "source": [
        "# clever solution\n",
        "# use formatting to insert values into string at right place\n",
        "\n",
        "def likes(names):\n",
        "    l = len(names)\n",
        "    return {\n",
        "        0: 'no one likes this',\n",
        "        1: '{} likes this', \n",
        "        2: '{} and {} like this', \n",
        "        3: '{}, {} and {} like this', \n",
        "        4: '{}, {} and {others} others like this'\n",
        "    }[min(4, l)].format(*names[:3], others=l-2)\n",
        "\n",
        "#likes([])                               # 'no one likes this'\n",
        "#likes(['Peter'])                        # 'Peter likes this'\n",
        "#likes(['Jacob', 'Alex'])                # 'Jacob and Alex like this'\n",
        "#likes(['Max', 'John', 'Mark'])          # 'Max, John and Mark like this'\n",
        "#likes(['Alex', 'Jacob', 'Mark', 'Max']) # 'Alex, Jacob and 2 others like this'\n",
        "likes(['Michinomiya', 'Theodore', 'Robert', 'Benito', 'Winston', 'Vladimir', 'Adolf']) # 'Alex, Jacob and 5 others like this'"
      ],
      "execution_count": null,
      "outputs": []
    },
    {
      "cell_type": "code",
      "metadata": {
        "id": "gnoKEbz8cTqr",
        "colab_type": "code",
        "colab": {}
      },
      "source": [
        ""
      ],
      "execution_count": null,
      "outputs": []
    }
  ]
}