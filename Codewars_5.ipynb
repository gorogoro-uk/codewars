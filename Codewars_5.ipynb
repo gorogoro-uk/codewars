{
  "nbformat": 4,
  "nbformat_minor": 0,
  "metadata": {
    "colab": {
      "name": "Codewars_5.ipynb",
      "provenance": [],
      "authorship_tag": "ABX9TyNB2vUBRIQErhbcz5SYXfq4",
      "include_colab_link": true
    },
    "kernelspec": {
      "name": "python3",
      "display_name": "Python 3"
    }
  },
  "cells": [
    {
      "cell_type": "markdown",
      "metadata": {
        "id": "view-in-github",
        "colab_type": "text"
      },
      "source": [
        "<a href=\"https://colab.research.google.com/github/gorogoro-uk/codewars/blob/master/Codewars_5.ipynb\" target=\"_parent\"><img src=\"https://colab.research.google.com/assets/colab-badge.svg\" alt=\"Open In Colab\"/></a>"
      ]
    },
    {
      "cell_type": "markdown",
      "metadata": {
        "id": "phK7cB-Xcqzz",
        "colab_type": "text"
      },
      "source": [
        "### Codewars 5 kyu"
      ]
    },
    {
      "cell_type": "code",
      "metadata": {
        "id": "nc2V9jJuco8q",
        "colab_type": "code",
        "colab": {}
      },
      "source": [
        "# 5. Pete, the Baker\n",
        "\n",
        "def cakes(recipe, available):\n",
        "  if not(set(recipe).issubset(set(available))):\n",
        "    return 0\n",
        "  else:\n",
        "    return min({k: available[k]//recipe[k] for k in recipe}.values(), default=0)\n",
        "\n",
        "# winning solution\n",
        "# def cakes(recipe, available):\n",
        "#   return min(available.get(k, 0)/recipe[k] for k in recipe)\n",
        "\n",
        "# test: answer 2\n",
        "recipe = {\"flour\": 500, \"sugar\": 200, \"eggs\": 1}\n",
        "available = {\"flour\": 1200, \"sugar\": 1200, \"eggs\": 5, \"milk\": 200}\n",
        "\n",
        "cakes(recipe, available)"
      ],
      "execution_count": null,
      "outputs": []
    },
    {
      "cell_type": "code",
      "metadata": {
        "id": "eF0RmzgPct5C",
        "colab_type": "code",
        "colab": {}
      },
      "source": [
        "# 5. Calculating wtih Functions\n",
        "# f() returns a lambda function with the math operation\n",
        "# number functions return number if last, or f(number) if first\n",
        "\n",
        "def zero(f=None): return 0 if f is None else f(0)\n",
        "def one(f=None): return 1 if f is None else f(1)\n",
        "def two(f=None): return 2 if f is None else f(2)\n",
        "def three(f=None): return 3 if f is None else f(3)\n",
        "def four(f=None): return 4 if f is None else f(4)\n",
        "def five(f=None): return 5 if f is None else f(5)\n",
        "def six(f=None): return 6 if f is None else f(6)\n",
        "def seven(f=None): return 7 if f is None else f(7)\n",
        "def eight(f=None): return 8 if f is None else f(8)\n",
        "def nine(f=None): return 9 if f is None else f(9)\n",
        "\n",
        "def plus(x): \n",
        "  return lambda y: y + x\n",
        "\n",
        "def minus(x): \n",
        "  return lambda y: y - x\n",
        "\n",
        "def times(x): \n",
        "  return lambda y: y * x\n",
        "\n",
        "def divided_by(x): \n",
        "  return lambda y: int(y / x)\n",
        "\n",
        "# test\n",
        "seven(times(five()))        # answer 35"
      ],
      "execution_count": null,
      "outputs": []
    },
    {
      "cell_type": "code",
      "metadata": {
        "id": "l8IB1SIPct8I",
        "colab_type": "code",
        "colab": {}
      },
      "source": [
        "# is it possible to condense the operation function's with lambda functions\n",
        "# in the same way the numer functions are generated below?\n",
        "\n",
        "id_ = lambda x: x\n",
        "number = lambda x: lambda f=id_: f(x)\n",
        "zero, one, two, three, four, five, six, seven, eight, nine = map(number, range(10))\n",
        "\n",
        "plus = lambda x: lambda y: y + x\n",
        "minus = lambda x: lambda y: y - x\n",
        "times = lambda x: lambda y: y * x\n",
        "divided_by = lambda x: lambda y: y / x\n",
        "\n",
        "# how to use lambda to create the four operation functions ?\n",
        "op = lambda i: lambda j: \n",
        "plus, minus, times, divide_by = map(, (+,-,*,/))\n",
        "\n",
        "seven(times(five()))"
      ],
      "execution_count": null,
      "outputs": []
    },
    {
      "cell_type": "code",
      "metadata": {
        "id": "u-WDegPUct-o",
        "colab_type": "code",
        "colab": {}
      },
      "source": [
        "# 5. Valid Parenthesis\n",
        "\n",
        "def valid_parentheses(string):\n",
        "  n = 0\n",
        "  for ch in string:\n",
        "    if ch == \"(\": n += 1\n",
        "    if ch == \")\": n -= 1\n",
        "    if n < 0:\n",
        "      return False\n",
        "  return n == 0\n",
        "\n",
        "# clever solution\n",
        "# use re.compile() error if unbalanced parentheses\n",
        "\n",
        "import re\n",
        "def valid_parentheses(s):\n",
        "    try:\n",
        "        re.compile(s)\n",
        "    except:\n",
        "        return False\n",
        "    return True\n",
        "\n",
        "\n",
        "#valid_parentheses(\"(())((()())())\") # True\n",
        "valid_parentheses(\"hi(hi)((())\") # False\n",
        "#valid_parentheses(\"hi())(mnj)\") # False"
      ],
      "execution_count": null,
      "outputs": []
    },
    {
      "cell_type": "code",
      "metadata": {
        "id": "NOoySVExcuBP",
        "colab_type": "code",
        "colab": {}
      },
      "source": [
        "# 5. Josephus Survivor\n",
        "# with rucursion (there is a limit to recursion depth)\n",
        "def josephus_survivor(n,k):\n",
        "      if (n == 1): \n",
        "          return 1\n",
        "      else:\n",
        "          return (josephus(n - 1, k) + k-1) % n + 1\n",
        "\n",
        "#josephus_survivor(7,3)        # 4\n",
        "#josephus_survivor(11,19)      # 10\n",
        "#josephus_survivor(1,300)      # 1\n",
        "#josephus_survivor(14,2)       # 13\n",
        "josephus_survivor(100,1)       # 100"
      ],
      "execution_count": null,
      "outputs": []
    },
    {
      "cell_type": "code",
      "metadata": {
        "id": "qJNvmyHtc8mg",
        "colab_type": "code",
        "colab": {}
      },
      "source": [
        "# with functools reduce\n",
        "# first two items used by reduce are first two elements produced by iterable\n",
        "\n",
        "from functools import reduce\n",
        "\n",
        "def josephus_survivor(n, k):\n",
        "    print(f\"range(0,n+1): {[i for i in range(0,n+1)]}\")\n",
        "    \n",
        "    return reduce(lambda x, y: (x+k)%y, range(0, n+1)) + 1\n",
        "\n",
        "josephus_survivor(14,2)"
      ],
      "execution_count": null,
      "outputs": []
    },
    {
      "cell_type": "code",
      "metadata": {
        "id": "zyGJduYRc8qN",
        "colab_type": "code",
        "colab": {}
      },
      "source": [
        "# deleting items from list\n",
        "\n",
        "def josephus_survivor(n, k):\n",
        "    ls = [x for x in range(1,n+1)]\n",
        "    print(f\"start list: {ls}\")\n",
        "    incr = k - 1                  # less one due to hole from killing previous\n",
        "    print(f\"incr: {incr}\")\n",
        "    i = incr % len(ls)            # first killing point (zero indexing)\n",
        "    while len(ls) > 1:\n",
        "        print(f\"i = {i}\")\n",
        "        print(ls.pop(i), ls)      # kill prisoner at i\n",
        "        i = (i + incr) % len(ls)  # wrap around list if required\n",
        "    return ls[0]\n",
        "\n",
        "\n",
        "josephus_survivor(14,2)"
      ],
      "execution_count": null,
      "outputs": []
    },
    {
      "cell_type": "code",
      "metadata": {
        "id": "ERgEnShFc8t6",
        "colab_type": "code",
        "colab": {}
      },
      "source": [
        "# 5. Not Very Secure\n",
        "# at least one character    +\n",
        "# no white space            ^\\s  or [^ \\t\\n\\r\\f\\v]\n",
        "# upper/lower case latin    \\w   or [a-zA-Z]\n",
        "# numbers                   \\d   or [0-9]\n",
        "\n",
        "import re\n",
        "\n",
        "def alphanumeric(password):\n",
        "    a = re.compile(\"^[0-9a-zA-Z]+$\")\n",
        "    return bool(re.match(a,password))\n",
        "\n",
        "x = \"PassW0rd.  \"\n",
        "alphanumeric(x)"
      ],
      "execution_count": null,
      "outputs": []
    },
    {
      "cell_type": "code",
      "metadata": {
        "id": "PeC5vs4LdDbQ",
        "colab_type": "code",
        "colab": {}
      },
      "source": [
        "# 5. Moving Zeros\n",
        "\n",
        "def move_zeros(array):\n",
        "    n = [x for x in array if x != 0 or isinstance(x, bool)]\n",
        "    z = [x for x in array if x == 0 and not(isinstance(x, bool))]\n",
        "    print(n)\n",
        "    print(z)\n",
        "    n.extend(z)\n",
        "    return n\n",
        "\n",
        "move_zeros([0,1,None,2,False,1,0])             # [1,None,2,False,1,0,0])\n",
        "#move_zeros([1,'a',0,1,0,1,0,3,None,0,1])      # [ 1, 'a', 1, 1, 3, None, 1, 0, 0, 0, 0 ]"
      ],
      "execution_count": null,
      "outputs": []
    },
    {
      "cell_type": "code",
      "metadata": {
        "id": "P57sJPMwdDiA",
        "colab_type": "code",
        "colab": {}
      },
      "source": [
        "# 5. Directions Reduction\n",
        "SH = {'NORTH':'N','SOUTH':'S','EAST':'E','WEST':'W'}\n",
        "LNG = {'N':'NORTH','S':'SOUTH','E':'EAST','W':'WEST'}\n",
        "PAIRS = ['NS','SN','EW','WE']\n",
        "\n",
        "def dirReduc(arr):\n",
        "\n",
        "    x = \"\".join(i for i in [SH.get(i) for i in arr])\n",
        "    print(x)\n",
        "\n",
        "    while x:\n",
        "        n = len(x)\n",
        "        print(f\"start: {n} {x}\")\n",
        "\n",
        "        for p in PAIRS:\n",
        "            x = x.replace(p,'')\n",
        "        print(f\"x after removal {x}\")\n",
        "\n",
        "        if not(x):\n",
        "          print(\"NONE\")\n",
        "          return []\n",
        "\n",
        "        if len(x) == n:\n",
        "          print(f\"end {len(x)}\")\n",
        "          return [LNG.get(j) for j in x]\n",
        "\n",
        "\n",
        "a = [\"NORTH\", \"SOUTH\", \"SOUTH\", \"EAST\", \"WEST\", \"NORTH\", \"WEST\"]\n",
        "b = [\"NORTH\", \"WEST\", \"SOUTH\", \"EAST\"]\n",
        "c = [\"NORTH\", \"SOUTH\", \"SOUTH\", \"EAST\", \"WEST\", \"NORTH\"]\n",
        "\n",
        "#a = \"NSSEWNW\"\n",
        "#a = \"NWSE\"\n",
        "dirReduc(c)     # ['WEST']\n",
        "#dirReduc(b)     # [\"NORTH\", \"WEST\", \"SOUTH\", \"EAST\"]"
      ],
      "execution_count": null,
      "outputs": []
    },
    {
      "cell_type": "code",
      "metadata": {
        "id": "enJNodZBdDrE",
        "colab_type": "code",
        "colab": {}
      },
      "source": [
        "# 5. ROT13 Cyper\n",
        "# shift 13 characters ahead, ignore non-Latin characters\n",
        "from string import ascii_lowercase, ascii_uppercase\n",
        "\n",
        "def rot13(message):\n",
        "    rotL = message.maketrans(ascii_lowercase,ascii_lowercase[13:]+ascii_lowercase[:13],'')\n",
        "    rotU = message.maketrans(ascii_uppercase,ascii_uppercase[13:]+ascii_uppercase[:13],'')\n",
        "    return message.translate(rotL).translate(rotU)\n",
        "\n",
        "rot13(\"Test\")   # \"Grfg\""
      ],
      "execution_count": null,
      "outputs": []
    },
    {
      "cell_type": "code",
      "metadata": {
        "id": "5Fuo5aSZdJmN",
        "colab_type": "code",
        "colab": {}
      },
      "source": [
        "# 5. Integers: Recreation One\n",
        "import math\n",
        "def list_squared(m, n):\n",
        "  a = []\n",
        "  for i in range(m,n+1):\n",
        "    #print(f\"i: {i}\")\n",
        "    f = [x for x in range(1,i+1) if i % x == 0]\n",
        "    #print(f\"factors of i: {f}\")\n",
        "    g = sum([j**2 for j in f])\n",
        "    #print(g)\n",
        "    h = math.sqrt(g)\n",
        "    print(h)\n",
        "    if h % 1 == 0:\n",
        "      a.append([i,g])\n",
        "  return a\n",
        "\n",
        "#list_squared(1, 250)    # [[1, 1], [42, 2500], [246, 84100]])\n",
        "#list_squared(42, 250)   # [[42, 2500], [246, 84100]])\n",
        "list_squared(250, 500)  # [[287, 84100]])"
      ],
      "execution_count": null,
      "outputs": []
    },
    {
      "cell_type": "code",
      "metadata": {
        "id": "bqHs0uUmdJrz",
        "colab_type": "code",
        "colab": {}
      },
      "source": [
        "import math\n",
        "from functools import reduce\n",
        "\n",
        "def list_squared(m, n):\n",
        "    a = []\n",
        "    for i in range(m,n+1):\n",
        "        f = list(set(reduce(list.__add__, [[x,i//x] for x in range(1,int(n**0.5) + 1) if i % x == 0])))\n",
        "        g = sum([j**2 for j in f])\n",
        "        if math.sqrt(g) % 1 == 0:\n",
        "            a.append([i,g])\n",
        "    return a\n",
        "\n",
        "#list_squared(1, 250)    # [[1, 1], [42, 2500], [246, 84100]])\n",
        "list_squared(42, 250)   # [[42, 2500], [246, 84100]])\n",
        "#list_squared(250, 500)  # [[287, 84100]])"
      ],
      "execution_count": null,
      "outputs": []
    },
    {
      "cell_type": "code",
      "metadata": {
        "id": "-nnhRZ0rdJ5Q",
        "colab_type": "code",
        "colab": {}
      },
      "source": [
        "# 5. Pick Peaks\n",
        "\n",
        "def pick_peaks(arr):\n",
        "    peak=[]\n",
        "    pos=[]\n",
        "    for i in range(1,len(arr)):\n",
        "        print(i)\n",
        "        if arr[i-1] < arr[i]:\n",
        "            x = i\n",
        "        if arr[i-1] == arr[i]:\n",
        "            pass\n",
        "        if arr[i] > arr[i]:\n",
        "            pos.append(x)\n",
        "            peak.append(a[x])\n",
        "        print(x)\n",
        "        print(pos, peak)\n",
        "    return [pos,peak]\n",
        "\n",
        "pick_peaks([1,2,5,4,3,2,3,6,4,1,2,3,3,4,5,3,2,1,2,3,5,5,4,3]) # {\"pos\":[2,7,14,20], \"peaks\":[5,6,5,5]}\n",
        "#pick_peaks([1,2,3,6,4,1,2,3,2,1])   # {\"pos\":[3,7], \"peaks\":[6,3]}"
      ],
      "execution_count": null,
      "outputs": []
    },
    {
      "cell_type": "code",
      "metadata": {
        "id": "4WQr55jtgnSe",
        "colab_type": "code",
        "colab": {}
      },
      "source": [
        "def pick_peaks(arr):\n",
        "    chg, prev = 0, 0   # chg will not change with FLAT\n",
        "    pos = []\n",
        "    peaks = []\n",
        "\n",
        "    for i in range(1, len(arr)):\n",
        "        print(chg, prev, i)\n",
        "        if arr[i] > arr[prev]:    # next one is bigger  (going up)\n",
        "            print(\"UP\")\n",
        "            chg = prev\n",
        "            prev = i\n",
        "        else:\n",
        "          if arr[i] < arr[prev]:    # next one is smaller (going down)\n",
        "              print(\"DOWN\")\n",
        "              if arr[chg] < arr[prev]: # prev change is bigger\n",
        "                  print(\"PREV UP\")\n",
        "                  pos.append(prev)\n",
        "                  peaks.append(arr[prev])\n",
        "              chg = prev\n",
        "              prev = i\n",
        "        print(pos, peaks)\n",
        "        print()\n",
        "    return {\"pos\": pos, \"peaks\": peaks}\n",
        "\n",
        "#pick_peaks([1,2,5,4,3,2,3,6,4,1,2,3,3,4,5,3,2,1,2,3,5,5,4,3]) # {\"pos\":[2,7,14,20], \"peaks\":[5,6,5,5]}\n",
        "#pick_peaks([1,2,3,6,4,1,2,3,2,1])      # {\"pos\":[3,7], \"peaks\":[6,3]}\n",
        "pick_peaks([2,1,3,2,2,2,2,1])         # {\"pos\":[2],   \"peaks\":[3]}\n",
        "#pick_peaks([1, 2, 2, 2, 1])            # {\"pos\": [1],  \"peaks\": [2]}"
      ],
      "execution_count": null,
      "outputs": []
    },
    {
      "cell_type": "code",
      "metadata": {
        "id": "MYmEaUZN7hZl",
        "colab_type": "code",
        "colab": {
          "base_uri": "https://localhost:8080/",
          "height": 34
        },
        "outputId": "7b3f6984-3a71-4b45-8e03-ea58e8ac2ef8"
      },
      "source": [
        "# alternative solution\n",
        "# store index and get value at return\n",
        "# use an indicator for most recent peak, reset after finding top \n",
        "\n",
        "def pick_peaks(arr):\n",
        "    pos = []\n",
        "    peak = False      # identifies each peak within series\n",
        "    for i in range(1, len(arr)):\n",
        "        if arr[i] > arr[i-1]:             # going up\n",
        "            peak = i\n",
        "        elif arr[i] < arr[i-1] and peak:  # going down\n",
        "            pos.append(peak)              # add index to output\n",
        "            peak = False                  # after identifying peak, reset \n",
        "    return {'pos':pos, 'peaks':[arr[i] for i in pos]}\n",
        "\n",
        "#pick_peaks([1,2,5,4,3,2,3,6,4,1,2,3,3,4,5,3,2,1,2,3,5,5,4,3]) # {\"pos\":[2,7,14,20], \"peaks\":[5,6,5,5]}\n",
        "#pick_peaks([1,2,3,6,4,1,2,3,2,1])      # {\"pos\":[3,7], \"peaks\":[6,3]}\n",
        "pick_peaks([2,1,3,2,2,2,2,1])         # {\"pos\":[2],   \"peaks\":[3]}\n",
        "#pick_peaks([1, 2, 2, 2, 1])            # {\"pos\": [1],  \"peaks\": [2]}"
      ],
      "execution_count": 45,
      "outputs": [
        {
          "output_type": "execute_result",
          "data": {
            "text/plain": [
              "{'peaks': [3], 'pos': [2]}"
            ]
          },
          "metadata": {
            "tags": []
          },
          "execution_count": 45
        }
      ]
    }
  ]
}